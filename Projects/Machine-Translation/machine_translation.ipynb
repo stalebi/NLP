{
 "cells": [
  {
   "cell_type": "markdown",
   "metadata": {
    "collapsed": true
   },
   "source": [
    "# Artificial Intelligence Nanodegree\n",
    "## Machine Translation Project\n",
    "In this notebook, sections that end with **'(IMPLEMENTATION)'** in the header indicate that the following blocks of code will require additional functionality which you must provide. Please be sure to read the instructions carefully!\n",
    "\n",
    "## Introduction\n",
    "In this notebook, you will build a deep neural network that functions as part of an end-to-end machine translation pipeline. Your completed pipeline will accept English text as input and return the French translation.\n",
    "\n",
    "- **Preprocess** - You'll convert text to sequence of integers.\n",
    "- **Models** Create models which accepts a sequence of integers as input and returns a probability distribution over possible translations. After learning about the basic types of neural networks that are often used for machine translation, you will engage in your own investigations, to design your own model!\n",
    "- **Prediction** Run the model on English text."
   ]
  },
  {
   "cell_type": "code",
   "execution_count": 1,
   "metadata": {},
   "outputs": [],
   "source": [
    "%load_ext autoreload\n",
    "%aimport helper, tests\n",
    "%autoreload 1"
   ]
  },
  {
   "cell_type": "code",
   "execution_count": 2,
   "metadata": {},
   "outputs": [
    {
     "name": "stderr",
     "output_type": "stream",
     "text": [
      "/opt/conda/lib/python3.6/site-packages/h5py/__init__.py:36: FutureWarning: Conversion of the second argument of issubdtype from `float` to `np.floating` is deprecated. In future, it will be treated as `np.float64 == np.dtype(float).type`.\n",
      "  from ._conv import register_converters as _register_converters\n",
      "Using TensorFlow backend.\n"
     ]
    }
   ],
   "source": [
    "import collections\n",
    "\n",
    "import helper\n",
    "import numpy as np\n",
    "import project_tests as tests\n",
    "\n",
    "from keras.preprocessing.text import Tokenizer\n",
    "from keras.preprocessing.sequence import pad_sequences\n",
    "from keras.models import Model\n",
    "from keras.layers import GRU, Input, Dense, TimeDistributed, Activation, RepeatVector, Bidirectional\n",
    "from keras.layers.embeddings import Embedding\n",
    "from keras.optimizers import Adam\n",
    "from keras.losses import sparse_categorical_crossentropy"
   ]
  },
  {
   "cell_type": "markdown",
   "metadata": {},
   "source": [
    "### Verify access to the GPU\n",
    "The following test applies only if you expect to be using a GPU, e.g., while running in a Udacity Workspace or using an AWS instance with GPU support. Run the next cell, and verify that the device_type is \"GPU\".\n",
    "- If the device is not GPU & you are running from a Udacity Workspace, then save your workspace with the icon at the top, then click \"enable\" at the bottom of the workspace.\n",
    "- If the device is not GPU & you are running from an AWS instance, then refer to the cloud computing instructions in the classroom to verify your setup steps."
   ]
  },
  {
   "cell_type": "code",
   "execution_count": 3,
   "metadata": {},
   "outputs": [
    {
     "name": "stdout",
     "output_type": "stream",
     "text": [
      "[name: \"/cpu:0\"\n",
      "device_type: \"CPU\"\n",
      "memory_limit: 268435456\n",
      "locality {\n",
      "}\n",
      "incarnation: 18061149529894437333\n",
      ", name: \"/gpu:0\"\n",
      "device_type: \"GPU\"\n",
      "memory_limit: 357433344\n",
      "locality {\n",
      "  bus_id: 1\n",
      "}\n",
      "incarnation: 13937156930815592860\n",
      "physical_device_desc: \"device: 0, name: Tesla K80, pci bus id: 0000:00:04.0\"\n",
      "]\n"
     ]
    }
   ],
   "source": [
    "from tensorflow.python.client import device_lib\n",
    "print(device_lib.list_local_devices())"
   ]
  },
  {
   "cell_type": "markdown",
   "metadata": {},
   "source": [
    "## Dataset\n",
    "We begin by investigating the dataset that will be used to train and evaluate your pipeline.  The most common datasets used for machine translation are from [WMT](http://www.statmt.org/).  However, that will take a long time to train a neural network on.  We'll be using a dataset we created for this project that contains a small vocabulary.  You'll be able to train your model in a reasonable time with this dataset.\n",
    "### Load Data\n",
    "The data is located in `data/small_vocab_en` and `data/small_vocab_fr`. The `small_vocab_en` file contains English sentences with their French translations in the `small_vocab_fr` file. Load the English and French data from these files from running the cell below."
   ]
  },
  {
   "cell_type": "code",
   "execution_count": 4,
   "metadata": {},
   "outputs": [
    {
     "name": "stdout",
     "output_type": "stream",
     "text": [
      "Dataset Loaded\n"
     ]
    }
   ],
   "source": [
    "# Load English data\n",
    "english_sentences = helper.load_data('data/small_vocab_en')\n",
    "# Load French data\n",
    "french_sentences = helper.load_data('data/small_vocab_fr')\n",
    "\n",
    "print('Dataset Loaded')"
   ]
  },
  {
   "cell_type": "markdown",
   "metadata": {},
   "source": [
    "### Files\n",
    "Each line in `small_vocab_en` contains an English sentence with the respective translation in each line of `small_vocab_fr`.  View the first two lines from each file."
   ]
  },
  {
   "cell_type": "code",
   "execution_count": 5,
   "metadata": {},
   "outputs": [
    {
     "name": "stdout",
     "output_type": "stream",
     "text": [
      "small_vocab_en Line 1:  new jersey is sometimes quiet during autumn , and it is snowy in april .\n",
      "small_vocab_fr Line 1:  new jersey est parfois calme pendant l' automne , et il est neigeux en avril .\n",
      "small_vocab_en Line 2:  the united states is usually chilly during july , and it is usually freezing in november .\n",
      "small_vocab_fr Line 2:  les états-unis est généralement froid en juillet , et il gèle habituellement en novembre .\n"
     ]
    }
   ],
   "source": [
    "for sample_i in range(2):\n",
    "    print('small_vocab_en Line {}:  {}'.format(sample_i + 1, english_sentences[sample_i]))\n",
    "    print('small_vocab_fr Line {}:  {}'.format(sample_i + 1, french_sentences[sample_i]))"
   ]
  },
  {
   "cell_type": "markdown",
   "metadata": {},
   "source": [
    "From looking at the sentences, you can see they have been preprocessed already.  The puncuations have been delimited using spaces. All the text have been converted to lowercase.  This should save you some time, but the text requires more preprocessing.\n",
    "### Vocabulary\n",
    "The complexity of the problem is determined by the complexity of the vocabulary.  A more complex vocabulary is a more complex problem.  Let's look at the complexity of the dataset we'll be working with."
   ]
  },
  {
   "cell_type": "code",
   "execution_count": 6,
   "metadata": {},
   "outputs": [
    {
     "name": "stdout",
     "output_type": "stream",
     "text": [
      "1823250 English words.\n",
      "227 unique English words.\n",
      "10 Most common words in the English dataset:\n",
      "\"is\" \",\" \".\" \"in\" \"it\" \"during\" \"the\" \"but\" \"and\" \"sometimes\"\n",
      "\n",
      "1961295 French words.\n",
      "355 unique French words.\n",
      "10 Most common words in the French dataset:\n",
      "\"est\" \".\" \",\" \"en\" \"il\" \"les\" \"mais\" \"et\" \"la\" \"parfois\"\n"
     ]
    }
   ],
   "source": [
    "english_words_counter = collections.Counter([word for sentence in english_sentences for word in sentence.split()])\n",
    "french_words_counter = collections.Counter([word for sentence in french_sentences for word in sentence.split()])\n",
    "\n",
    "print('{} English words.'.format(len([word for sentence in english_sentences for word in sentence.split()])))\n",
    "print('{} unique English words.'.format(len(english_words_counter)))\n",
    "print('10 Most common words in the English dataset:')\n",
    "print('\"' + '\" \"'.join(list(zip(*english_words_counter.most_common(10)))[0]) + '\"')\n",
    "print()\n",
    "print('{} French words.'.format(len([word for sentence in french_sentences for word in sentence.split()])))\n",
    "print('{} unique French words.'.format(len(french_words_counter)))\n",
    "print('10 Most common words in the French dataset:')\n",
    "print('\"' + '\" \"'.join(list(zip(*french_words_counter.most_common(10)))[0]) + '\"')"
   ]
  },
  {
   "cell_type": "markdown",
   "metadata": {},
   "source": [
    "For comparison, _Alice's Adventures in Wonderland_ contains 2,766 unique words of a total of 15,500 words.\n",
    "## Preprocess\n",
    "For this project, you won't use text data as input to your model. Instead, you'll convert the text into sequences of integers using the following preprocess methods:\n",
    "1. Tokenize the words into ids\n",
    "2. Add padding to make all the sequences the same length.\n",
    "\n",
    "Time to start preprocessing the data...\n",
    "### Tokenize (IMPLEMENTATION)\n",
    "For a neural network to predict on text data, it first has to be turned into data it can understand. Text data like \"dog\" is a sequence of ASCII character encodings.  Since a neural network is a series of multiplication and addition operations, the input data needs to be number(s).\n",
    "\n",
    "We can turn each character into a number or each word into a number.  These are called character and word ids, respectively.  Character ids are used for character level models that generate text predictions for each character.  A word level model uses word ids that generate text predictions for each word.  Word level models tend to learn better, since they are lower in complexity, so we'll use those.\n",
    "\n",
    "Turn each sentence into a sequence of words ids using Keras's [`Tokenizer`](https://keras.io/preprocessing/text/#tokenizer) function. Use this function to tokenize `english_sentences` and `french_sentences` in the cell below.\n",
    "\n",
    "Running the cell will run `tokenize` on sample data and show output for debugging."
   ]
  },
  {
   "cell_type": "code",
   "execution_count": 7,
   "metadata": {},
   "outputs": [
    {
     "name": "stdout",
     "output_type": "stream",
     "text": [
      "{'the': 1, 'quick': 2, 'a': 3, 'brown': 4, 'fox': 5, 'jumps': 6, 'over': 7, 'lazy': 8, 'dog': 9, 'by': 10, 'jove': 11, 'my': 12, 'study': 13, 'of': 14, 'lexicography': 15, 'won': 16, 'prize': 17, 'this': 18, 'is': 19, 'short': 20, 'sentence': 21}\n",
      "\n",
      "Sequence 1 in x\n",
      "  Input:  The quick brown fox jumps over the lazy dog .\n",
      "  Output: [1, 2, 4, 5, 6, 7, 1, 8, 9]\n",
      "Sequence 2 in x\n",
      "  Input:  By Jove , my quick study of lexicography won a prize .\n",
      "  Output: [10, 11, 12, 2, 13, 14, 15, 16, 3, 17]\n",
      "Sequence 3 in x\n",
      "  Input:  This is a short sentence .\n",
      "  Output: [18, 19, 3, 20, 21]\n"
     ]
    }
   ],
   "source": [
    "def tokenize(x):\n",
    "    \"\"\"\n",
    "    Tokenize x\n",
    "    :param x: List of sentences/strings to be tokenized\n",
    "    :return: Tuple of (tokenized x data, tokenizer used to tokenize x)\n",
    "    \"\"\"\n",
    "    # TODO: Implement\n",
    "    # create the tokenizer\n",
    "    tk = Tokenizer()\n",
    "    # fit the tokenizer on sentences/strings of x\n",
    "    tk.fit_on_texts(x)\n",
    "    return tk.texts_to_sequences(x), tk\n",
    "\n",
    "tests.test_tokenize(tokenize)\n",
    "\n",
    "\n",
    "# Tokenize Example output\n",
    "text_sentences = [\n",
    "    'The quick brown fox jumps over the lazy dog .',\n",
    "    'By Jove , my quick study of lexicography won a prize .',\n",
    "    'This is a short sentence .']\n",
    "text_tokenized, text_tokenizer = tokenize(text_sentences)\n",
    "print(text_tokenizer.word_index)\n",
    "print()\n",
    "for sample_i, (sent, token_sent) in enumerate(zip(text_sentences, text_tokenized)):\n",
    "    print('Sequence {} in x'.format(sample_i + 1))\n",
    "    print('  Input:  {}'.format(sent))\n",
    "    print('  Output: {}'.format(token_sent))"
   ]
  },
  {
   "cell_type": "markdown",
   "metadata": {},
   "source": [
    "### Padding (IMPLEMENTATION)\n",
    "When batching the sequence of word ids together, each sequence needs to be the same length.  Since sentences are dynamic in length, we can add padding to the end of the sequences to make them the same length.\n",
    "\n",
    "Make sure all the English sequences have the same length and all the French sequences have the same length by adding padding to the **end** of each sequence using Keras's [`pad_sequences`](https://keras.io/preprocessing/sequence/#pad_sequences) function."
   ]
  },
  {
   "cell_type": "code",
   "execution_count": 8,
   "metadata": {},
   "outputs": [
    {
     "name": "stdout",
     "output_type": "stream",
     "text": [
      "Sequence 1 in x\n",
      "  Input:  [1 2 4 5 6 7 1 8 9]\n",
      "  Output: [1 2 4 5 6 7 1 8 9 0]\n",
      "Sequence 2 in x\n",
      "  Input:  [10 11 12  2 13 14 15 16  3 17]\n",
      "  Output: [10 11 12  2 13 14 15 16  3 17]\n",
      "Sequence 3 in x\n",
      "  Input:  [18 19  3 20 21]\n",
      "  Output: [18 19  3 20 21  0  0  0  0  0]\n"
     ]
    }
   ],
   "source": [
    "def pad(x, length=None):\n",
    "    \"\"\"\n",
    "    Pad x\n",
    "    :param x: List of sequences.\n",
    "    :param length: Length to pad the sequence to.  If None, use length of longest sequence in x.\n",
    "    :return: Padded numpy array of sequences\n",
    "    \"\"\"\n",
    "    # TODO: Implement\n",
    "    if length is None:\n",
    "        length = max([len(sentence) for sentence in x])    \n",
    "    return pad_sequences(x, maxlen=length, padding='post')\n",
    "\n",
    "tests.test_pad(pad)\n",
    "\n",
    "\n",
    "# Pad Tokenized output\n",
    "test_pad = pad(text_tokenized)\n",
    "for sample_i, (token_sent, pad_sent) in enumerate(zip(text_tokenized, test_pad)):\n",
    "    print('Sequence {} in x'.format(sample_i + 1))\n",
    "    print('  Input:  {}'.format(np.array(token_sent)))\n",
    "    print('  Output: {}'.format(pad_sent))"
   ]
  },
  {
   "cell_type": "markdown",
   "metadata": {},
   "source": [
    "### Preprocess Pipeline\n",
    "Your focus for this project is to build neural network architecture, so we won't ask you to create a preprocess pipeline.  Instead, we've provided you with the implementation of the `preprocess` function."
   ]
  },
  {
   "cell_type": "code",
   "execution_count": 9,
   "metadata": {},
   "outputs": [
    {
     "name": "stdout",
     "output_type": "stream",
     "text": [
      "Data Preprocessed\n",
      "Max English sentence length: 15\n",
      "Max French sentence length: 21\n",
      "English vocabulary size: 199\n",
      "French vocabulary size: 344\n"
     ]
    }
   ],
   "source": [
    "def preprocess(x, y):\n",
    "    \"\"\"\n",
    "    Preprocess x and y\n",
    "    :param x: Feature List of sentences\n",
    "    :param y: Label List of sentences\n",
    "    :return: Tuple of (Preprocessed x, Preprocessed y, x tokenizer, y tokenizer)\n",
    "    \"\"\"\n",
    "    preprocess_x, x_tk = tokenize(x)\n",
    "    preprocess_y, y_tk = tokenize(y)\n",
    "\n",
    "    preprocess_x = pad(preprocess_x)\n",
    "    preprocess_y = pad(preprocess_y)\n",
    "\n",
    "    # Keras's sparse_categorical_crossentropy function requires the labels to be in 3 dimensions\n",
    "    preprocess_y = preprocess_y.reshape(*preprocess_y.shape, 1)\n",
    "\n",
    "    return preprocess_x, preprocess_y, x_tk, y_tk\n",
    "\n",
    "preproc_english_sentences, preproc_french_sentences, english_tokenizer, french_tokenizer =\\\n",
    "    preprocess(english_sentences, french_sentences)\n",
    "    \n",
    "max_english_sequence_length = preproc_english_sentences.shape[1]\n",
    "max_french_sequence_length = preproc_french_sentences.shape[1]\n",
    "english_vocab_size = len(english_tokenizer.word_index)\n",
    "french_vocab_size = len(french_tokenizer.word_index)\n",
    "\n",
    "print('Data Preprocessed')\n",
    "print(\"Max English sentence length:\", max_english_sequence_length)\n",
    "print(\"Max French sentence length:\", max_french_sequence_length)\n",
    "print(\"English vocabulary size:\", english_vocab_size)\n",
    "print(\"French vocabulary size:\", french_vocab_size)"
   ]
  },
  {
   "cell_type": "markdown",
   "metadata": {},
   "source": [
    "## Models\n",
    "In this section, you will experiment with various neural network architectures.\n",
    "You will begin by training four relatively simple architectures.\n",
    "- Model 1 is a simple RNN\n",
    "- Model 2 is a RNN with Embedding\n",
    "- Model 3 is a Bidirectional RNN\n",
    "- Model 4 is an optional Encoder-Decoder RNN\n",
    "\n",
    "After experimenting with the four simple architectures, you will construct a deeper architecture that is designed to outperform all four models.\n",
    "### Ids Back to Text\n",
    "The neural network will be translating the input to words ids, which isn't the final form we want.  We want the French translation.  The function `logits_to_text` will bridge the gab between the logits from the neural network to the French translation.  You'll be using this function to better understand the output of the neural network."
   ]
  },
  {
   "cell_type": "code",
   "execution_count": 10,
   "metadata": {},
   "outputs": [
    {
     "name": "stdout",
     "output_type": "stream",
     "text": [
      "`logits_to_text` function loaded.\n"
     ]
    }
   ],
   "source": [
    "def logits_to_text(logits, tokenizer):\n",
    "    \"\"\"\n",
    "    Turn logits from a neural network into text using the tokenizer\n",
    "    :param logits: Logits from a neural network\n",
    "    :param tokenizer: Keras Tokenizer fit on the labels\n",
    "    :return: String that represents the text of the logits\n",
    "    \"\"\"\n",
    "    index_to_words = {id: word for word, id in tokenizer.word_index.items()}\n",
    "    index_to_words[0] = '<PAD>'\n",
    "\n",
    "    return ' '.join([index_to_words[prediction] for prediction in np.argmax(logits, 1)])\n",
    "\n",
    "print('`logits_to_text` function loaded.')"
   ]
  },
  {
   "cell_type": "markdown",
   "metadata": {},
   "source": [
    "### Model 1: RNN (IMPLEMENTATION)\n",
    "![RNN](images/rnn.png)\n",
    "A basic RNN model is a good baseline for sequence data.  In this model, you'll build a RNN that translates English to French."
   ]
  },
  {
   "cell_type": "code",
   "execution_count": 11,
   "metadata": {
    "scrolled": false
   },
   "outputs": [
    {
     "name": "stdout",
     "output_type": "stream",
     "text": [
      "(137861, 21, 1)\n",
      "(21, 1)\n",
      "_________________________________________________________________\n",
      "Layer (type)                 Output Shape              Param #   \n",
      "=================================================================\n",
      "input_2 (InputLayer)         (None, 21, 1)             0         \n",
      "_________________________________________________________________\n",
      "gru_2 (GRU)                  (None, 21, 512)           789504    \n",
      "_________________________________________________________________\n",
      "time_distributed_2 (TimeDist (None, 21, 345)           176985    \n",
      "_________________________________________________________________\n",
      "activation_2 (Activation)    (None, 21, 345)           0         \n",
      "=================================================================\n",
      "Total params: 966,489\n",
      "Trainable params: 966,489\n",
      "Non-trainable params: 0\n",
      "_________________________________________________________________\n",
      "None\n",
      "Train on 110288 samples, validate on 27573 samples\n",
      "Epoch 1/10\n",
      "110288/110288 [==============================] - 19s 168us/step - loss: 2.2541 - acc: 0.5170 - val_loss: 1.5746 - val_acc: 0.5932\n",
      "Epoch 2/10\n",
      "110288/110288 [==============================] - 18s 163us/step - loss: 1.4325 - acc: 0.6093 - val_loss: 1.3298 - val_acc: 0.6240\n",
      "Epoch 3/10\n",
      "110288/110288 [==============================] - 18s 164us/step - loss: 1.2605 - acc: 0.6346 - val_loss: 1.1925 - val_acc: 0.6477\n",
      "Epoch 4/10\n",
      "110288/110288 [==============================] - 18s 164us/step - loss: 1.1472 - acc: 0.6557 - val_loss: 1.1095 - val_acc: 0.6588\n",
      "Epoch 5/10\n",
      "110288/110288 [==============================] - 18s 164us/step - loss: 1.0706 - acc: 0.6696 - val_loss: 1.0360 - val_acc: 0.6804\n",
      "Epoch 6/10\n",
      "110288/110288 [==============================] - 18s 164us/step - loss: 1.0126 - acc: 0.6791 - val_loss: 0.9863 - val_acc: 0.6806\n",
      "Epoch 7/10\n",
      "110288/110288 [==============================] - 18s 164us/step - loss: 0.9671 - acc: 0.6855 - val_loss: 0.9519 - val_acc: 0.6878\n",
      "Epoch 8/10\n",
      "110288/110288 [==============================] - 18s 164us/step - loss: 0.9274 - acc: 0.6944 - val_loss: 0.9096 - val_acc: 0.7011\n",
      "Epoch 9/10\n",
      "110288/110288 [==============================] - 18s 164us/step - loss: 0.8928 - acc: 0.7033 - val_loss: 0.8699 - val_acc: 0.7102\n",
      "Epoch 10/10\n",
      "110288/110288 [==============================] - 18s 163us/step - loss: 0.8516 - acc: 0.7166 - val_loss: 0.8380 - val_acc: 0.7266\n",
      "new jersey est parfois calme en l' de il et est est en en <PAD> <PAD> <PAD> <PAD> <PAD> <PAD> <PAD>\n",
      "\n",
      "English text:\n",
      "['new jersey is sometimes quiet during autumn , and it is snowy in april .']\n",
      "\n",
      "French Translation:\n",
      "[\"new jersey est parfois calme pendant l' automne , et il est neigeux en avril .\"]\n",
      "loss: 83.59%\n",
      "acc: 72.73%\n"
     ]
    },
    {
     "data": {
      "image/png": "[encoded data removed]",
      "text/plain": [
       "<matplotlib.figure.Figure at 0x7efd9a8bfb38>"
      ]
     },
     "metadata": {
      "needs_background": "light"
     },
     "output_type": "display_data"
    }
   ],
   "source": [
    "from numpy.random import seed\n",
    "seed(1)\n",
    "from tensorflow import set_random_seed\n",
    "set_random_seed(2)\n",
    "from matplotlib import pyplot\n",
    "%matplotlib inline\n",
    "\n",
    "\n",
    "def simple_model(input_shape, output_sequence_length, english_vocab_size, french_vocab_size):\n",
    "    \"\"\"\n",
    "    Build and train a basic RNN on x and y\n",
    "    :param input_shape: Tuple of input shape\n",
    "    :param output_sequence_length: Length of output sequence\n",
    "    :param english_vocab_size: Number of unique English words in the dataset\n",
    "    :param french_vocab_size: Number of unique French words in the dataset\n",
    "    :return: Keras model built, but not trained\n",
    "    \"\"\"\n",
    "    # TODO: Build the layers\n",
    "    learning_rate = 1e-3\n",
    "    input_seq = Input(input_shape[1:])\n",
    "    rnn = GRU(units=512, return_sequences=True)(input_seq)\n",
    "    outputs = TimeDistributed(Dense(french_vocab_size))(rnn)\n",
    "    \n",
    "    model = Model(input_seq, Activation('softmax')(outputs))\n",
    "    \n",
    "    model.compile(loss=sparse_categorical_crossentropy,\n",
    "                  optimizer=Adam(learning_rate),\n",
    "                  metrics=['accuracy'])\n",
    "    \n",
    "    return model\n",
    "\n",
    "tests.test_simple_model(simple_model)\n",
    "\n",
    "\n",
    "# Reshaping the input to work with a basic RNN\n",
    "tmp_x = pad(preproc_english_sentences, max_french_sequence_length)\n",
    "tmp_x = tmp_x.reshape((-1, preproc_french_sentences.shape[-2], 1))\n",
    "print(tmp_x.shape)\n",
    "print(tmp_x.shape[1:])\n",
    "\n",
    "\n",
    "# Train the neural network\n",
    "simple_rnn_model = simple_model(tmp_x.shape,max_french_sequence_length,\n",
    "                                english_vocab_size+1,french_vocab_size+1)\n",
    "\n",
    "print(simple_rnn_model.summary())\n",
    "\n",
    "hist = simple_rnn_model.fit(tmp_x,preproc_french_sentences, batch_size=1024, \n",
    "                            epochs=10, validation_split=0.2)\n",
    "\n",
    "# Print prediction(s)\n",
    "print(logits_to_text(simple_rnn_model.predict(tmp_x[:1])[0], french_tokenizer))\n",
    "\n",
    "print(\"\\nEnglish text:\")\n",
    "print(english_sentences[:1])\n",
    "\n",
    "print(\"\\nFrench Translation:\")\n",
    "print(french_sentences[:1])\n",
    "\n",
    "# Plot train vs validation loss \n",
    "scores = simple_rnn_model.evaluate(tmp_x, preproc_french_sentences, verbose=0)\n",
    "print(\"%s: %.2f%%\" % (simple_rnn_model.metrics_names[0], scores[0]*100))\n",
    "print(\"%s: %.2f%%\" % (simple_rnn_model.metrics_names[1], scores[1]*100))\n",
    "\n",
    "pyplot.plot(hist.history['loss'])\n",
    "pyplot.plot(hist.history['val_loss'])\n",
    "pyplot.title('model train vs validation loss')\n",
    "pyplot.ylabel('loss')\n",
    "pyplot.xlabel('epoch')\n",
    "pyplot.legend(['train', 'validation'], loc='upper right')\n",
    "pyplot.show()"
   ]
  },
  {
   "cell_type": "markdown",
   "metadata": {},
   "source": [
    "### Model 2: Embedding (IMPLEMENTATION)\n",
    "![RNN](images/embedding.png)\n",
    "You've turned the words into ids, but there's a better representation of a word.  This is called word embeddings.  An embedding is a vector representation of the word that is close to similar words in n-dimensional space, where the n represents the size of the embedding vectors.\n",
    "\n",
    "In this model, you'll create a RNN model using embedding."
   ]
  },
  {
   "cell_type": "code",
   "execution_count": 12,
   "metadata": {},
   "outputs": [
    {
     "name": "stdout",
     "output_type": "stream",
     "text": [
      "(137861, 21)\n",
      "_________________________________________________________________\n",
      "Layer (type)                 Output Shape              Param #   \n",
      "=================================================================\n",
      "input_4 (InputLayer)         (None, 21)                0         \n",
      "_________________________________________________________________\n",
      "embedding_2 (Embedding)      (None, 21, 512)           102400    \n",
      "_________________________________________________________________\n",
      "gru_4 (GRU)                  (None, 21, 512)           1574400   \n",
      "_________________________________________________________________\n",
      "time_distributed_4 (TimeDist (None, 21, 345)           176985    \n",
      "_________________________________________________________________\n",
      "activation_4 (Activation)    (None, 21, 345)           0         \n",
      "=================================================================\n",
      "Total params: 1,853,785\n",
      "Trainable params: 1,853,785\n",
      "Non-trainable params: 0\n",
      "_________________________________________________________________\n",
      "None\n",
      "Train on 110288 samples, validate on 27573 samples\n",
      "Epoch 1/10\n",
      "110288/110288 [==============================] - 26s 238us/step - loss: 2.5815 - acc: 0.5184 - val_loss: 1.4433 - val_acc: 0.6429\n",
      "Epoch 2/10\n",
      "110288/110288 [==============================] - 26s 236us/step - loss: 0.9689 - acc: 0.7553 - val_loss: 0.6585 - val_acc: 0.8126\n",
      "Epoch 3/10\n",
      "110288/110288 [==============================] - 26s 237us/step - loss: 0.5305 - acc: 0.8408 - val_loss: 0.4328 - val_acc: 0.8668\n",
      "Epoch 4/10\n",
      "110288/110288 [==============================] - 26s 237us/step - loss: 0.3807 - acc: 0.8813 - val_loss: 0.3355 - val_acc: 0.8932\n",
      "Epoch 5/10\n",
      "110288/110288 [==============================] - 26s 236us/step - loss: 0.3064 - acc: 0.9011 - val_loss: 0.2812 - val_acc: 0.9085\n",
      "Epoch 6/10\n",
      "110288/110288 [==============================] - 26s 236us/step - loss: 0.2655 - acc: 0.9129 - val_loss: 0.2544 - val_acc: 0.9159\n",
      "Epoch 7/10\n",
      "110288/110288 [==============================] - 26s 236us/step - loss: 0.2410 - acc: 0.9198 - val_loss: 0.2405 - val_acc: 0.9198\n",
      "Epoch 8/10\n",
      "110288/110288 [==============================] - 26s 236us/step - loss: 0.2223 - acc: 0.9251 - val_loss: 0.2210 - val_acc: 0.9255\n",
      "Epoch 9/10\n",
      "110288/110288 [==============================] - 26s 236us/step - loss: 0.2070 - acc: 0.9294 - val_loss: 0.2091 - val_acc: 0.9290\n",
      "Epoch 10/10\n",
      "110288/110288 [==============================] - 26s 236us/step - loss: 0.1990 - acc: 0.9313 - val_loss: 0.2045 - val_acc: 0.9298\n",
      "new jersey est parfois calme en l' automne et il est neigeux en avril <PAD> <PAD> <PAD> <PAD> <PAD> <PAD> <PAD>\n",
      "\n",
      "English text:\n",
      "['new jersey is sometimes quiet during autumn , and it is snowy in april .']\n",
      "\n",
      "French Translation:\n",
      "[\"new jersey est parfois calme pendant l' automne , et il est neigeux en avril .\"]\n",
      "loss: 19.61%\n",
      "acc: 93.18%\n"
     ]
    },
    {
     "data": {
      "image/png": "[encoded data removed]",
      "text/plain": [
       "<matplotlib.figure.Figure at 0x7efd9a784c18>"
      ]
     },
     "metadata": {
      "needs_background": "light"
     },
     "output_type": "display_data"
    }
   ],
   "source": [
    "def embed_model(input_shape, output_sequence_length, english_vocab_size, french_vocab_size):\n",
    "    \"\"\"\n",
    "    Build and train a RNN model using word embedding on x and y\n",
    "    :param input_shape: Tuple of input shape\n",
    "    :param output_sequence_length: Length of output sequence\n",
    "    :param english_vocab_size: Number of unique English words in the dataset\n",
    "    :param french_vocab_size: Number of unique French words in the dataset\n",
    "    :return: Keras model built, but not trained\n",
    "    \"\"\"\n",
    "    # TODO: Implement\n",
    "    learning_rate = 1e-3\n",
    "    input_seq = Input(input_shape[1:])\n",
    "    embedding = Embedding(input_dim=english_vocab_size, output_dim=512)(input_seq)\n",
    "    rnn = GRU(units=512, return_sequences=True, activation='tanh', recurrent_activation='hard_sigmoid')(embedding)\n",
    "    \n",
    "    outputs = TimeDistributed(Dense(french_vocab_size))(rnn)\n",
    "    \n",
    "    model = Model(input_seq, Activation('softmax')(outputs))\n",
    "\n",
    "    model.compile(loss=sparse_categorical_crossentropy,\n",
    "                  optimizer=Adam(learning_rate),\n",
    "                  metrics=['accuracy'])\n",
    "    \n",
    "    return model\n",
    "\n",
    "tests.test_embed_model(embed_model)\n",
    "\n",
    "\n",
    "# TODO: Reshape the input\n",
    "tmp_x = pad(preproc_english_sentences, max_french_sequence_length)\n",
    "tmp_x = tmp_x.reshape((-1, preproc_french_sentences.shape[-2]))\n",
    "print(tmp_x.shape)\n",
    "\n",
    "# TODO: Train the neural network\n",
    "embeded_rnn_model = embed_model(tmp_x.shape,max_french_sequence_length,\n",
    "                                english_vocab_size+1,french_vocab_size+1)\n",
    "\n",
    "print(embeded_rnn_model.summary())\n",
    "\n",
    "\n",
    "hist = embeded_rnn_model.fit(tmp_x, preproc_french_sentences, batch_size=1024, \n",
    "                             epochs=10, validation_split=0.2)\n",
    "\n",
    "\n",
    "# TODO: Print prediction(s)\n",
    "print(logits_to_text(embeded_rnn_model.predict(tmp_x[:1])[0], french_tokenizer))\n",
    "\n",
    "print(\"\\nEnglish text:\")\n",
    "print(english_sentences[:1])\n",
    "\n",
    "print(\"\\nFrench Translation:\")\n",
    "print(french_sentences[:1])\n",
    "\n",
    "\n",
    "scores = embeded_rnn_model.evaluate(tmp_x, preproc_french_sentences, verbose=0)\n",
    "print(\"%s: %.2f%%\" % (embeded_rnn_model.metrics_names[0], scores[0]*100))\n",
    "print(\"%s: %.2f%%\" % (embeded_rnn_model.metrics_names[1], scores[1]*100))\n",
    "\n",
    "# Plot train vs validation loss \n",
    "pyplot.plot(hist.history['loss'])\n",
    "pyplot.plot(hist.history['val_loss'])\n",
    "pyplot.title('model train vs validation loss')\n",
    "pyplot.ylabel('loss')\n",
    "pyplot.xlabel('epoch')\n",
    "pyplot.legend(['train', 'validation'], loc='upper right')\n",
    "pyplot.show()"
   ]
  },
  {
   "cell_type": "markdown",
   "metadata": {},
   "source": [
    "### Model 3: Bidirectional RNNs (IMPLEMENTATION)\n",
    "![RNN](images/bidirectional.png)\n",
    "One restriction of a RNN is that it can't see the future input, only the past.  This is where bidirectional recurrent neural networks come in.  They are able to see the future data."
   ]
  },
  {
   "cell_type": "code",
   "execution_count": 13,
   "metadata": {},
   "outputs": [
    {
     "name": "stdout",
     "output_type": "stream",
     "text": [
      "(137861, 21, 1)\n",
      "_________________________________________________________________\n",
      "Layer (type)                 Output Shape              Param #   \n",
      "=================================================================\n",
      "input_6 (InputLayer)         (None, 21, 1)             0         \n",
      "_________________________________________________________________\n",
      "bidirectional_2 (Bidirection (None, 21, 1024)          1579008   \n",
      "_________________________________________________________________\n",
      "time_distributed_6 (TimeDist (None, 21, 345)           353625    \n",
      "_________________________________________________________________\n",
      "activation_6 (Activation)    (None, 21, 345)           0         \n",
      "=================================================================\n",
      "Total params: 1,932,633\n",
      "Trainable params: 1,932,633\n",
      "Non-trainable params: 0\n",
      "_________________________________________________________________\n",
      "None\n",
      "Train on 110288 samples, validate on 27573 samples\n",
      "Epoch 1/20\n",
      "110288/110288 [==============================] - 33s 300us/step - loss: 1.8653 - acc: 0.5728 - val_loss: 1.3416 - val_acc: 0.6277\n",
      "Epoch 2/20\n",
      "110288/110288 [==============================] - 33s 297us/step - loss: 1.2416 - acc: 0.6440 - val_loss: 1.1617 - val_acc: 0.6526\n",
      "Epoch 3/20\n",
      "110288/110288 [==============================] - 33s 298us/step - loss: 1.1031 - acc: 0.6711 - val_loss: 1.0456 - val_acc: 0.6852\n",
      "Epoch 4/20\n",
      "110288/110288 [==============================] - 33s 298us/step - loss: 1.0064 - acc: 0.6879 - val_loss: 0.9655 - val_acc: 0.6951\n",
      "Epoch 5/20\n",
      "110288/110288 [==============================] - 33s 298us/step - loss: 0.9327 - acc: 0.7024 - val_loss: 0.9108 - val_acc: 0.7031\n",
      "Epoch 6/20\n",
      "110288/110288 [==============================] - 33s 298us/step - loss: 0.8785 - acc: 0.7115 - val_loss: 0.8590 - val_acc: 0.7127\n",
      "Epoch 7/20\n",
      "110288/110288 [==============================] - 33s 298us/step - loss: 0.8326 - acc: 0.7210 - val_loss: 0.8100 - val_acc: 0.7246\n",
      "Epoch 8/20\n",
      "110288/110288 [==============================] - 33s 298us/step - loss: 0.7938 - acc: 0.7292 - val_loss: 0.7817 - val_acc: 0.7303\n",
      "Epoch 9/20\n",
      "110288/110288 [==============================] - 33s 297us/step - loss: 0.7572 - acc: 0.7386 - val_loss: 0.7477 - val_acc: 0.7408\n",
      "Epoch 10/20\n",
      "110288/110288 [==============================] - 33s 297us/step - loss: 0.7237 - acc: 0.7493 - val_loss: 0.7065 - val_acc: 0.7595\n",
      "Epoch 11/20\n",
      "110288/110288 [==============================] - 33s 297us/step - loss: 0.6838 - acc: 0.7660 - val_loss: 0.6637 - val_acc: 0.7763\n",
      "Epoch 12/20\n",
      "110288/110288 [==============================] - 33s 297us/step - loss: 0.6402 - acc: 0.7866 - val_loss: 0.6327 - val_acc: 0.7921\n",
      "Epoch 13/20\n",
      "110288/110288 [==============================] - 33s 298us/step - loss: 0.6256 - acc: 0.7912 - val_loss: 0.6119 - val_acc: 0.7992\n",
      "Epoch 14/20\n",
      "110288/110288 [==============================] - 33s 298us/step - loss: 0.5826 - acc: 0.8113 - val_loss: 0.5768 - val_acc: 0.8155\n",
      "Epoch 15/20\n",
      "110288/110288 [==============================] - 33s 298us/step - loss: 0.5452 - acc: 0.8298 - val_loss: 0.5851 - val_acc: 0.8069\n",
      "Epoch 16/20\n",
      "110288/110288 [==============================] - 33s 298us/step - loss: 0.5325 - acc: 0.8312 - val_loss: 0.5119 - val_acc: 0.8442\n",
      "Epoch 17/20\n",
      "110288/110288 [==============================] - 33s 298us/step - loss: 0.4979 - acc: 0.8482 - val_loss: 0.4972 - val_acc: 0.8501\n",
      "Epoch 18/20\n",
      "110288/110288 [==============================] - 33s 297us/step - loss: 0.4818 - acc: 0.8511 - val_loss: 0.4721 - val_acc: 0.8569\n",
      "Epoch 19/20\n",
      "110288/110288 [==============================] - 33s 297us/step - loss: 0.4619 - acc: 0.8582 - val_loss: 0.4796 - val_acc: 0.8460\n",
      "Epoch 20/20\n",
      "110288/110288 [==============================] - 33s 297us/step - loss: 0.4499 - acc: 0.8602 - val_loss: 0.4421 - val_acc: 0.8662\n",
      "new jersey est parfois calme au mois de l' automne est il en en <PAD> <PAD> <PAD> <PAD> <PAD> <PAD> <PAD>\n",
      "\n",
      "English text:\n",
      "['new jersey is sometimes quiet during autumn , and it is snowy in april .']\n",
      "\n",
      "French Translation:\n",
      "[\"new jersey est parfois calme pendant l' automne , et il est neigeux en avril .\"]\n",
      "loss: 43.43%\n",
      "acc: 86.81%\n"
     ]
    },
    {
     "data": {
      "image/png": "[encoded data removed]",
      "text/plain": [
       "<matplotlib.figure.Figure at 0x7efd91b26c88>"
      ]
     },
     "metadata": {
      "needs_background": "light"
     },
     "output_type": "display_data"
    }
   ],
   "source": [
    "def bd_model(input_shape, output_sequence_length, english_vocab_size, french_vocab_size):\n",
    "    \"\"\"\n",
    "    Build and train a bidirectional RNN model on x and y\n",
    "    :param input_shape: Tuple of input shape\n",
    "    :param output_sequence_length: Length of output sequence\n",
    "    :param english_vocab_size: Number of unique English words in the dataset\n",
    "    :param french_vocab_size: Number of unique French words in the dataset\n",
    "    :return: Keras model built, but not trained\n",
    "    \"\"\"\n",
    "    # TODO: Implement\n",
    "    learning_rate = 1e-3\n",
    "    input_seq = Input(input_shape[1:])\n",
    "    rnn = Bidirectional(GRU(units=512, return_sequences=True))(input_seq)\n",
    "    outputs = TimeDistributed(Dense(french_vocab_size))(rnn)\n",
    "    \n",
    "    model = Model(input_seq, Activation('softmax')(outputs))\n",
    "    \n",
    "    model.compile(loss=sparse_categorical_crossentropy,\n",
    "                  optimizer=Adam(learning_rate),\n",
    "                  metrics=['accuracy'])\n",
    "    \n",
    "    return model\n",
    "\n",
    "tests.test_bd_model(bd_model)\n",
    "\n",
    "\n",
    "# TODO: Train and Print prediction(s)\n",
    "tmp_x = pad(preproc_english_sentences, max_french_sequence_length)\n",
    "tmp_x = tmp_x.reshape((-1, preproc_french_sentences.shape[-2], 1))\n",
    "print(tmp_x.shape)\n",
    "\n",
    "\n",
    "# Train the neural network\n",
    "bidir_rnn_model = bd_model(tmp_x.shape,\n",
    "                           max_french_sequence_length,\n",
    "                           english_vocab_size+1,\n",
    "                           french_vocab_size+1)\n",
    "\n",
    "print(bidir_rnn_model.summary())\n",
    "\n",
    "\n",
    "hist = bidir_rnn_model.fit(tmp_x, preproc_french_sentences, \n",
    "                           batch_size=1024, epochs=20, validation_split=0.2)\n",
    "\n",
    "# Print prediction(s)\n",
    "print(logits_to_text(bidir_rnn_model.predict(tmp_x[:1])[0], french_tokenizer))\n",
    "\n",
    "print(\"\\nEnglish text:\")\n",
    "print(english_sentences[:1])\n",
    "\n",
    "print(\"\\nFrench Translation:\")\n",
    "print(french_sentences[:1])\n",
    "\n",
    "\n",
    "scores = bidir_rnn_model.evaluate(tmp_x, preproc_french_sentences, verbose=0)\n",
    "\n",
    "print(\"%s: %.2f%%\" % (bidir_rnn_model.metrics_names[0], scores[0]*100))\n",
    "print(\"%s: %.2f%%\" % (bidir_rnn_model.metrics_names[1], scores[1]*100))\n",
    "\n",
    "# Plot train vs validation loss \n",
    "pyplot.plot(hist.history['loss'])\n",
    "pyplot.plot(hist.history['val_loss'])\n",
    "pyplot.title('model train vs validation loss')\n",
    "pyplot.ylabel('loss')\n",
    "pyplot.xlabel('epoch')\n",
    "pyplot.legend(['train', 'validation'], loc='upper right')\n",
    "pyplot.show()"
   ]
  },
  {
   "cell_type": "markdown",
   "metadata": {},
   "source": [
    "### Model 4: Encoder-Decoder (OPTIONAL)\n",
    "Time to look at encoder-decoder models.  This model is made up of an encoder and decoder. The encoder creates a matrix representation of the sentence.  The decoder takes this matrix as input and predicts the translation as output.\n",
    "\n",
    "Create an encoder-decoder model in the cell below."
   ]
  },
  {
   "cell_type": "code",
   "execution_count": 14,
   "metadata": {
    "scrolled": false
   },
   "outputs": [
    {
     "name": "stdout",
     "output_type": "stream",
     "text": [
      "(137861, 15, 1)\n",
      "_________________________________________________________________\n",
      "Layer (type)                 Output Shape              Param #   \n",
      "=================================================================\n",
      "input_8 (InputLayer)         (None, 15, 1)             0         \n",
      "_________________________________________________________________\n",
      "gru_9 (GRU)                  (None, 512)               789504    \n",
      "_________________________________________________________________\n",
      "repeat_vector_2 (RepeatVecto (None, 21, 512)           0         \n",
      "_________________________________________________________________\n",
      "gru_10 (GRU)                 (None, 21, 512)           1574400   \n",
      "_________________________________________________________________\n",
      "time_distributed_8 (TimeDist (None, 21, 345)           176985    \n",
      "_________________________________________________________________\n",
      "activation_8 (Activation)    (None, 21, 345)           0         \n",
      "=================================================================\n",
      "Total params: 2,540,889\n",
      "Trainable params: 2,540,889\n",
      "Non-trainable params: 0\n",
      "_________________________________________________________________\n",
      "None\n",
      "Train on 110288 samples, validate on 27573 samples\n",
      "Epoch 1/20\n",
      "110288/110288 [==============================] - 35s 322us/step - loss: 2.4184 - acc: 0.4852 - val_loss: 1.7981 - val_acc: 0.5623\n",
      "Epoch 2/20\n",
      "110288/110288 [==============================] - 35s 316us/step - loss: 1.6425 - acc: 0.5728 - val_loss: 1.5149 - val_acc: 0.5900\n",
      "Epoch 3/20\n",
      "110288/110288 [==============================] - 35s 317us/step - loss: 1.4394 - acc: 0.6028 - val_loss: 1.3607 - val_acc: 0.6167\n",
      "Epoch 4/20\n",
      "110288/110288 [==============================] - 35s 316us/step - loss: 1.3204 - acc: 0.6254 - val_loss: 1.2785 - val_acc: 0.6303\n",
      "Epoch 5/20\n",
      "110288/110288 [==============================] - 35s 316us/step - loss: 1.2468 - acc: 0.6371 - val_loss: 1.2162 - val_acc: 0.6443\n",
      "Epoch 6/20\n",
      "110288/110288 [==============================] - 35s 315us/step - loss: 1.1849 - acc: 0.6488 - val_loss: 1.1523 - val_acc: 0.6550\n",
      "Epoch 7/20\n",
      "110288/110288 [==============================] - 35s 316us/step - loss: 1.1509 - acc: 0.6507 - val_loss: 1.1076 - val_acc: 0.6571\n",
      "Epoch 8/20\n",
      "110288/110288 [==============================] - 35s 316us/step - loss: 1.0854 - acc: 0.6626 - val_loss: 1.0600 - val_acc: 0.6668\n",
      "Epoch 9/20\n",
      "110288/110288 [==============================] - 35s 316us/step - loss: 1.0470 - acc: 0.6705 - val_loss: 1.0798 - val_acc: 0.6614\n",
      "Epoch 10/20\n",
      "110288/110288 [==============================] - 35s 316us/step - loss: 1.0278 - acc: 0.6732 - val_loss: 1.0089 - val_acc: 0.6745\n",
      "Epoch 11/20\n",
      "110288/110288 [==============================] - 35s 316us/step - loss: 0.9755 - acc: 0.6831 - val_loss: 1.0846 - val_acc: 0.6659\n",
      "Epoch 12/20\n",
      "110288/110288 [==============================] - 35s 316us/step - loss: 0.9483 - acc: 0.6888 - val_loss: 0.8968 - val_acc: 0.7044\n",
      "Epoch 13/20\n",
      "110288/110288 [==============================] - 35s 316us/step - loss: 0.9522 - acc: 0.6921 - val_loss: 1.1560 - val_acc: 0.6452\n",
      "Epoch 14/20\n",
      "110288/110288 [==============================] - 35s 316us/step - loss: 0.9638 - acc: 0.6770 - val_loss: 0.9282 - val_acc: 0.6841\n",
      "Epoch 15/20\n",
      "110288/110288 [==============================] - 35s 314us/step - loss: 0.8865 - acc: 0.6989 - val_loss: 0.8812 - val_acc: 0.7031\n",
      "Epoch 16/20\n",
      "110288/110288 [==============================] - 35s 316us/step - loss: 0.8333 - acc: 0.7190 - val_loss: 0.8008 - val_acc: 0.7290\n",
      "Epoch 17/20\n",
      "110288/110288 [==============================] - 35s 316us/step - loss: 0.8143 - acc: 0.7236 - val_loss: 0.8208 - val_acc: 0.7198\n",
      "Epoch 18/20\n",
      "110288/110288 [==============================] - 35s 316us/step - loss: 0.7611 - acc: 0.7409 - val_loss: 0.7654 - val_acc: 0.7365\n",
      "Epoch 19/20\n",
      "110288/110288 [==============================] - 35s 316us/step - loss: 0.7311 - acc: 0.7499 - val_loss: 0.7391 - val_acc: 0.7437\n",
      "Epoch 20/20\n",
      "110288/110288 [==============================] - 35s 316us/step - loss: 0.7220 - acc: 0.7532 - val_loss: 0.6940 - val_acc: 0.7595\n",
      "new jersey est parfois chaud au mois de il est il est en en <PAD> <PAD> <PAD> <PAD> <PAD> <PAD> <PAD>\n",
      "\n",
      "English text:\n",
      "['new jersey is sometimes quiet during autumn , and it is snowy in april .']\n",
      "\n",
      "French Translation:\n",
      "[\"new jersey est parfois calme pendant l' automne , et il est neigeux en avril .\"]\n",
      "loss: 68.75%\n",
      "acc: 76.20%\n"
     ]
    },
    {
     "data": {
      "image/png": "[encoded data removed]",
      "text/plain": [
       "<matplotlib.figure.Figure at 0x7efd91be0b38>"
      ]
     },
     "metadata": {
      "needs_background": "light"
     },
     "output_type": "display_data"
    },
    {
     "data": {
      "image/png": "[encoded data removed]",
      "text/plain": [
       "<matplotlib.figure.Figure at 0x7efd91cc0b00>"
      ]
     },
     "metadata": {
      "needs_background": "light"
     },
     "output_type": "display_data"
    }
   ],
   "source": [
    "def encdec_model(input_shape, output_sequence_length, english_vocab_size, french_vocab_size):\n",
    "    \"\"\"\n",
    "    Build and train an encoder-decoder model on x and y\n",
    "    :param input_shape: Tuple of input shape\n",
    "    :param output_sequence_length: Length of output sequence\n",
    "    :param english_vocab_size: Number of unique English words in the dataset\n",
    "    :param french_vocab_size: Number of unique French words in the dataset\n",
    "    :return: Keras model built, but not trained\n",
    "    \"\"\"\n",
    "    # OPTIONAL: Implement\n",
    "    learning_rate = 1e-3\n",
    "    input_seq = Input(input_shape[1:])\n",
    "    encoded = GRU(512, return_sequences = False)(input_seq)\n",
    "    decoded = RepeatVector(output_sequence_length)(encoded)\n",
    "    decoded = GRU(512, return_sequences = True)(decoded)\n",
    "    outputs = TimeDistributed(Dense(french_vocab_size))(decoded)\n",
    "\n",
    "    model = Model(input_seq, Activation('softmax')(outputs))\n",
    "\n",
    "    model.compile(loss = sparse_categorical_crossentropy, \n",
    "                 optimizer = Adam(learning_rate), \n",
    "                 metrics = ['accuracy'])\n",
    "    \n",
    "    return model\n",
    "\n",
    "tests.test_encdec_model(encdec_model)\n",
    "\n",
    "\n",
    "# OPTIONAL: Train and Print prediction(s)\n",
    "tmp_x = pad(preproc_english_sentences)\n",
    "tmp_x = tmp_x.reshape((-1, preproc_english_sentences.shape[1], 1))\n",
    "#tmp_x = tmp_x.reshape((-1, preproc_french_sentences.shape[-2], 1))\n",
    "print(tmp_x.shape)\n",
    "\n",
    "# Train the neural network\n",
    "encdec_rnn_model = encdec_model(tmp_x.shape,\n",
    "                                max_french_sequence_length,\n",
    "                                english_vocab_size+1,\n",
    "                                french_vocab_size+1)\n",
    "\n",
    "print(encdec_rnn_model.summary())\n",
    "\n",
    "\n",
    "hist = encdec_rnn_model.fit(tmp_x, preproc_french_sentences, batch_size=1024, epochs=20, validation_split=0.2)\n",
    "\n",
    "# Print prediction(s)\n",
    "print(logits_to_text(encdec_rnn_model.predict(tmp_x[:1])[0], french_tokenizer))\n",
    "\n",
    "print(\"\\nEnglish text:\")\n",
    "print(english_sentences[:1])\n",
    "\n",
    "print(\"\\nFrench Translation:\")\n",
    "print(french_sentences[:1])\n",
    "\n",
    "scores = encdec_rnn_model.evaluate(tmp_x, preproc_french_sentences, verbose=0)\n",
    "print(\"%s: %.2f%%\" % (encdec_rnn_model.metrics_names[0], scores[0]*100))\n",
    "print(\"%s: %.2f%%\" % (encdec_rnn_model.metrics_names[1], scores[1]*100))\n",
    "\n",
    "# Plot train vs validation loss \n",
    "pyplot.plot(hist.history['loss'])\n",
    "pyplot.plot(hist.history['val_loss'])\n",
    "pyplot.title('model train vs validation loss')\n",
    "pyplot.ylabel('loss')\n",
    "pyplot.xlabel('epoch')\n",
    "pyplot.legend(['train', 'validation'], loc='upper right')\n",
    "pyplot.show()\n",
    "\n",
    "\n",
    "# Plot train vs validation accuracy \n",
    "pyplot.plot(hist.history['acc'])\n",
    "pyplot.plot(hist.history['val_acc'])\n",
    "pyplot.title('model train vs validation acc')\n",
    "pyplot.ylabel('acc')\n",
    "pyplot.xlabel('epoch')\n",
    "pyplot.legend(['train', 'validation'], loc='upper right')\n",
    "pyplot.show()"
   ]
  },
  {
   "cell_type": "markdown",
   "metadata": {},
   "source": [
    "### Model 5: Custom (IMPLEMENTATION)\n",
    "Use everything you learned from the previous models to create a model that incorporates embedding and a bidirectional rnn into one model."
   ]
  },
  {
   "cell_type": "code",
   "execution_count": 15,
   "metadata": {},
   "outputs": [
    {
     "name": "stdout",
     "output_type": "stream",
     "text": [
      "Final Model Loaded\n"
     ]
    }
   ],
   "source": [
    "def model_final(input_shape, output_sequence_length, english_vocab_size, french_vocab_size):\n",
    "    \"\"\"\n",
    "    Build and train a model that incorporates embedding, encoder-decoder, and bidirectional RNN on x and y\n",
    "    :param input_shape: Tuple of input shape\n",
    "    :param output_sequence_length: Length of output sequence\n",
    "    :param english_vocab_size: Number of unique English words in the dataset\n",
    "    :param french_vocab_size: Number of unique French words in the dataset\n",
    "    :return: Keras model built, but not trained\n",
    "    \"\"\"\n",
    "    # TODO: Implement\n",
    "    learning_rate = 1e-3\n",
    "    input_seq = Input(input_shape[1:])\n",
    "    embedding = Embedding(input_dim=english_vocab_size, output_dim=512)(input_seq)\n",
    "    encoded = Bidirectional(GRU(512, return_sequences = False))(embedding)\n",
    "    decoded = RepeatVector(output_sequence_length)(encoded)\n",
    "    decoded = Bidirectional(GRU(512, return_sequences = True))(decoded)\n",
    "    outputs = TimeDistributed(Dense(french_vocab_size))(decoded)\n",
    "    \n",
    "    model = Model(input_seq, Activation('softmax')(outputs))\n",
    "\n",
    "    model.compile(loss = sparse_categorical_crossentropy, \n",
    "                 optimizer = Adam(learning_rate), \n",
    "                 metrics = ['accuracy'])\n",
    "    \n",
    "    return model\n",
    "      \n",
    "tests.test_model_final(model_final)\n",
    "\n",
    "print('Final Model Loaded')\n",
    "# TODO: Train the final model"
   ]
  },
  {
   "cell_type": "markdown",
   "metadata": {},
   "source": [
    "## Prediction (IMPLEMENTATION)"
   ]
  },
  {
   "cell_type": "code",
   "execution_count": 16,
   "metadata": {
    "scrolled": false
   },
   "outputs": [
    {
     "name": "stdout",
     "output_type": "stream",
     "text": [
      "_________________________________________________________________\n",
      "Layer (type)                 Output Shape              Param #   \n",
      "=================================================================\n",
      "input_10 (InputLayer)        (None, 15)                0         \n",
      "_________________________________________________________________\n",
      "embedding_4 (Embedding)      (None, 15, 512)           102400    \n",
      "_________________________________________________________________\n",
      "bidirectional_5 (Bidirection (None, 1024)              3148800   \n",
      "_________________________________________________________________\n",
      "repeat_vector_4 (RepeatVecto (None, 21, 1024)          0         \n",
      "_________________________________________________________________\n",
      "bidirectional_6 (Bidirection (None, 21, 1024)          4721664   \n",
      "_________________________________________________________________\n",
      "time_distributed_10 (TimeDis (None, 21, 345)           353625    \n",
      "_________________________________________________________________\n",
      "activation_10 (Activation)   (None, 21, 345)           0         \n",
      "=================================================================\n",
      "Total params: 8,326,489\n",
      "Trainable params: 8,326,489\n",
      "Non-trainable params: 0\n",
      "_________________________________________________________________\n",
      "None\n",
      "Train on 110288 samples, validate on 27573 samples\n",
      "Epoch 1/17\n",
      "110288/110288 [==============================] - 92s 834us/step - loss: 2.3256 - acc: 0.4978 - val_loss: 1.5832 - val_acc: 0.5988\n",
      "Epoch 2/17\n",
      "110288/110288 [==============================] - 91s 823us/step - loss: 1.3582 - acc: 0.6409 - val_loss: 1.1613 - val_acc: 0.6813\n",
      "Epoch 3/17\n",
      "110288/110288 [==============================] - 91s 823us/step - loss: 1.0173 - acc: 0.7148 - val_loss: 0.8838 - val_acc: 0.7468\n",
      "Epoch 4/17\n",
      "110288/110288 [==============================] - 91s 821us/step - loss: 0.8035 - acc: 0.7660 - val_loss: 0.7101 - val_acc: 0.7914\n",
      "Epoch 5/17\n",
      "110288/110288 [==============================] - 91s 822us/step - loss: 0.6341 - acc: 0.8116 - val_loss: 0.5527 - val_acc: 0.8382\n",
      "Epoch 6/17\n",
      "110288/110288 [==============================] - 91s 822us/step - loss: 0.4847 - acc: 0.8574 - val_loss: 0.4238 - val_acc: 0.8757\n",
      "Epoch 7/17\n",
      "110288/110288 [==============================] - 91s 821us/step - loss: 0.3569 - acc: 0.8967 - val_loss: 0.3022 - val_acc: 0.9149\n",
      "Epoch 8/17\n",
      "110288/110288 [==============================] - 91s 822us/step - loss: 0.2632 - acc: 0.9248 - val_loss: 0.2357 - val_acc: 0.9327\n",
      "Epoch 9/17\n",
      "110288/110288 [==============================] - 91s 821us/step - loss: 0.2051 - acc: 0.9412 - val_loss: 0.1944 - val_acc: 0.9444\n",
      "Epoch 10/17\n",
      "110288/110288 [==============================] - 91s 822us/step - loss: 0.1644 - acc: 0.9527 - val_loss: 0.1572 - val_acc: 0.9546\n",
      "Epoch 11/17\n",
      "110288/110288 [==============================] - 90s 820us/step - loss: 0.1386 - acc: 0.9600 - val_loss: 0.1375 - val_acc: 0.9600\n",
      "Epoch 12/17\n",
      "110288/110288 [==============================] - 91s 822us/step - loss: 0.1159 - acc: 0.9665 - val_loss: 0.1254 - val_acc: 0.9634\n",
      "Epoch 13/17\n",
      "110288/110288 [==============================] - 91s 822us/step - loss: 0.1004 - acc: 0.9706 - val_loss: 0.1123 - val_acc: 0.9665\n",
      "Epoch 14/17\n",
      "110288/110288 [==============================] - 90s 821us/step - loss: 0.0869 - acc: 0.9746 - val_loss: 0.1018 - val_acc: 0.9699\n",
      "Epoch 15/17\n",
      "110288/110288 [==============================] - 91s 822us/step - loss: 0.0999 - acc: 0.9718 - val_loss: 0.2214 - val_acc: 0.9312\n",
      "Epoch 16/17\n",
      "110288/110288 [==============================] - 91s 822us/step - loss: 0.0868 - acc: 0.9743 - val_loss: 0.0852 - val_acc: 0.9748\n",
      "Epoch 17/17\n",
      "110288/110288 [==============================] - 90s 820us/step - loss: 0.0591 - acc: 0.9831 - val_loss: 0.0852 - val_acc: 0.9756\n"
     ]
    },
    {
     "data": {
      "image/png": "[encoded data removed]",
      "text/plain": [
       "<matplotlib.figure.Figure at 0x7efd89385e80>"
      ]
     },
     "metadata": {
      "needs_background": "light"
     },
     "output_type": "display_data"
    },
    {
     "data": {
      "image/png": "[encoded data removed]",
      "text/plain": [
       "<matplotlib.figure.Figure at 0x7efd91afec50>"
      ]
     },
     "metadata": {
      "needs_background": "light"
     },
     "output_type": "display_data"
    },
    {
     "name": "stdout",
     "output_type": "stream",
     "text": [
      "Sample 1:\n",
      "il a vu un vieux camion jaune <PAD> <PAD> <PAD> <PAD> <PAD> <PAD> <PAD> <PAD> <PAD> <PAD> <PAD> <PAD> <PAD> <PAD>\n",
      "Il a vu un vieux camion jaune\n",
      "Sample 2:\n",
      "new jersey est parfois calme pendant l' automne et il est neigeux en avril <PAD> <PAD> <PAD> <PAD> <PAD> <PAD> <PAD>\n",
      "new jersey est parfois calme pendant l' automne et il est neigeux en avril <PAD> <PAD> <PAD> <PAD> <PAD> <PAD> <PAD>\n"
     ]
    }
   ],
   "source": [
    "def final_predictions(x, y, x_tk, y_tk):\n",
    "    \"\"\"\n",
    "    Gets predictions using the final model\n",
    "    :param x: Preprocessed English data\n",
    "    :param y: Preprocessed French data\n",
    "    :param x_tk: English tokenizer\n",
    "    :param y_tk: French tokenizer\n",
    "    \"\"\"\n",
    "    # TODO: Train neural network using model_final\n",
    "    tmp_x = pad(x)\n",
    "\n",
    "    model = model_final(tmp_x.shape,\n",
    "                        max_french_sequence_length,\n",
    "                        english_vocab_size+1,\n",
    "                        french_vocab_size+1)\n",
    "    \n",
    "    print(model.summary())\n",
    "    \n",
    "    hist = model.fit(tmp_x, preproc_french_sentences, batch_size = 1024, epochs = 17, validation_split = 0.2)\n",
    "    \n",
    "    # Plot train vs validation loss \n",
    "    pyplot.plot(hist.history['loss'])\n",
    "    pyplot.plot(hist.history['val_loss'])\n",
    "    pyplot.title('model train vs validation loss')\n",
    "    pyplot.ylabel('loss')\n",
    "    pyplot.xlabel('epoch')\n",
    "    pyplot.legend(['train', 'validation'], loc='upper right')\n",
    "    pyplot.show()\n",
    "    \n",
    "    # Plot train vs validation accuracy \n",
    "    pyplot.plot(hist.history['acc'])\n",
    "    pyplot.plot(hist.history['val_acc'])\n",
    "    pyplot.title('model train vs validation acc')\n",
    "    pyplot.ylabel('acc')\n",
    "    pyplot.xlabel('epoch')\n",
    "    pyplot.legend(['train', 'validation'], loc='upper right')\n",
    "    pyplot.show()\n",
    "    \n",
    "    ## DON'T EDIT ANYTHING BELOW THIS LINE\n",
    "    y_id_to_word = {value: key for key, value in y_tk.word_index.items()}\n",
    "    y_id_to_word[0] = '<PAD>'\n",
    "\n",
    "    sentence = 'he saw a old yellow truck'\n",
    "    sentence = [x_tk.word_index[word] for word in sentence.split()]\n",
    "    sentence = pad_sequences([sentence], maxlen=x.shape[-1], padding='post')\n",
    "    sentences = np.array([sentence[0], x[0]])\n",
    "    predictions = model.predict(sentences, len(sentences))\n",
    "\n",
    "    print('Sample 1:')\n",
    "    print(' '.join([y_id_to_word[np.argmax(x)] for x in predictions[0]]))\n",
    "    print('Il a vu un vieux camion jaune')\n",
    "    print('Sample 2:')\n",
    "    print(' '.join([y_id_to_word[np.argmax(x)] for x in predictions[1]]))\n",
    "    print(' '.join([y_id_to_word[np.max(x)] for x in y[0]]))\n",
    "    \n",
    "    \n",
    "final_predictions(preproc_english_sentences, preproc_french_sentences, english_tokenizer, french_tokenizer)"
   ]
  },
  {
   "cell_type": "markdown",
   "metadata": {},
   "source": [
    "## Submission\n",
    "When you're ready to submit, complete the following steps:\n",
    "1. Review the [rubric](https://review.udacity.com/#!/rubrics/1004/view) to ensure your submission meets all requirements to pass\n",
    "2. Generate an HTML version of this notebook\n",
    "\n",
    "  - Run the next cell to attempt automatic generation (this is the recommended method in Workspaces)\n",
    "  - Navigate to **FILE -> Download as -> HTML (.html)**\n",
    "  - Manually generate a copy using `nbconvert` from your shell terminal\n",
    "```\n",
    "$ pip install nbconvert\n",
    "$ python -m nbconvert machine_translation.ipynb\n",
    "```\n",
    "  \n",
    "3. Submit the project\n",
    "\n",
    "  - If you are in a Workspace, simply click the \"Submit Project\" button (bottom towards the right)\n",
    "  \n",
    "  - Otherwise, add the following files into a zip archive and submit them \n",
    "  - `helper.py`\n",
    "  - `machine_translation.ipynb`\n",
    "  - `machine_translation.html`\n",
    "    - You can export the notebook by navigating to **File -> Download as -> HTML (.html)**."
   ]
  },
  {
   "cell_type": "markdown",
   "metadata": {},
   "source": [
    "### Generate the html\n",
    "\n",
    "**Save your notebook before running the next cell to generate the HTML output.** Then submit your project."
   ]
  },
  {
   "cell_type": "code",
   "execution_count": 17,
   "metadata": {},
   "outputs": [
    {
     "data": {
      "text/plain": [
       "['[NbConvertApp] Converting notebook machine_translation.ipynb to html',\n",
       " '[NbConvertApp] Writing 540393 bytes to machine_translation.html',\n",
       " '[NbConvertApp] Converting notebook machine_translation-zh.ipynb to html',\n",
       " '[NbConvertApp] Writing 328614 bytes to machine_translation-zh.html']"
      ]
     },
     "execution_count": 17,
     "metadata": {},
     "output_type": "execute_result"
    }
   ],
   "source": [
    "# Save before you run this cell!\n",
    "!!jupyter nbconvert *.ipynb"
   ]
  },
  {
   "cell_type": "markdown",
   "metadata": {},
   "source": [
    "## Optional Enhancements\n",
    "\n",
    "This project focuses on learning various network architectures for machine translation, but we don't evaluate the models according to best practices by splitting the data into separate test & training sets -- so the model accuracy is overstated. Use the [`sklearn.model_selection.train_test_split()`](http://scikit-learn.org/stable/modules/generated/sklearn.model_selection.train_test_split.html) function to create separate training & test datasets, then retrain each of the models using only the training set and evaluate the prediction accuracy using the hold out test set. Does the \"best\" model change?"
   ]
  }
 ],
 "metadata": {
  "kernelspec": {
   "display_name": "Python 3",
   "language": "python",
   "name": "python3"
  },
  "language_info": {
   "codemirror_mode": {
    "name": "ipython",
    "version": 3
   },
   "file_extension": ".py",
   "mimetype": "text/x-python",
   "name": "python",
   "nbconvert_exporter": "python",
   "pygments_lexer": "ipython3",
   "version": "3.6.3"
  }
 },
 "nbformat": 4,
 "nbformat_minor": 1
}
