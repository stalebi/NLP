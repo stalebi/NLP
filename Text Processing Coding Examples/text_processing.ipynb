{
 "cells": [
  {
   "cell_type": "markdown",
   "metadata": {},
   "source": [
    "# Text Processing\n",
    "\n",
    "## Capturing Text Data\n",
    "\n",
    "### Plain Text"
   ]
  },
  {
   "cell_type": "code",
   "execution_count": 1,
   "metadata": {},
   "outputs": [
    {
     "name": "stdout",
     "output_type": "stream",
     "text": [
      "Hieroglyphic writing dates from c. 3000 BC, and is composed of hundreds of symbols. A hieroglyph can represent a word, a sound, or a silent determinative; and the same symbol can serve different purposes in different contexts. Hieroglyphs were a formal script, used on stone monuments and in tombs, that could be as detailed as individual works of art.\n",
      "\n"
     ]
    }
   ],
   "source": [
    "import os\n",
    "\n",
    "# Read in a plain text file\n",
    "with open(os.path.join(\"data\", \"hieroglyph.txt\"), \"r\") as f:\n",
    "    text = f.read()\n",
    "    print(text)"
   ]
  },
  {
   "cell_type": "markdown",
   "metadata": {},
   "source": [
    "### Tabular Data"
   ]
  },
  {
   "cell_type": "code",
   "execution_count": 4,
   "metadata": {
    "scrolled": true
   },
   "outputs": [
    {
     "data": {
      "text/html": [
       "<div>\n",
       "<style>\n",
       "    .dataframe thead tr:only-child th {\n",
       "        text-align: right;\n",
       "    }\n",
       "\n",
       "    .dataframe thead th {\n",
       "        text-align: left;\n",
       "    }\n",
       "\n",
       "    .dataframe tbody tr th {\n",
       "        vertical-align: top;\n",
       "    }\n",
       "</style>\n",
       "<table border=\"1\" class=\"dataframe\">\n",
       "  <thead>\n",
       "    <tr style=\"text-align: right;\">\n",
       "      <th></th>\n",
       "      <th>publisher</th>\n",
       "      <th>title</th>\n",
       "    </tr>\n",
       "  </thead>\n",
       "  <tbody>\n",
       "    <tr>\n",
       "      <th>0</th>\n",
       "      <td>Livemint</td>\n",
       "      <td>fed's charles plosser sees high bar for change...</td>\n",
       "    </tr>\n",
       "    <tr>\n",
       "      <th>1</th>\n",
       "      <td>IFA Magazine</td>\n",
       "      <td>us open: stocks fall after fed official hints ...</td>\n",
       "    </tr>\n",
       "    <tr>\n",
       "      <th>2</th>\n",
       "      <td>IFA Magazine</td>\n",
       "      <td>fed risks falling 'behind the curve', charles ...</td>\n",
       "    </tr>\n",
       "    <tr>\n",
       "      <th>3</th>\n",
       "      <td>Moneynews</td>\n",
       "      <td>fed's plosser: nasty weather has curbed job gr...</td>\n",
       "    </tr>\n",
       "    <tr>\n",
       "      <th>4</th>\n",
       "      <td>NASDAQ</td>\n",
       "      <td>plosser: fed may have to accelerate tapering pace</td>\n",
       "    </tr>\n",
       "  </tbody>\n",
       "</table>\n",
       "</div>"
      ],
      "text/plain": [
       "      publisher                                              title\n",
       "0      Livemint  fed's charles plosser sees high bar for change...\n",
       "1  IFA Magazine  us open: stocks fall after fed official hints ...\n",
       "2  IFA Magazine  fed risks falling 'behind the curve', charles ...\n",
       "3     Moneynews  fed's plosser: nasty weather has curbed job gr...\n",
       "4        NASDAQ  plosser: fed may have to accelerate tapering pace"
      ]
     },
     "execution_count": 4,
     "metadata": {},
     "output_type": "execute_result"
    }
   ],
   "source": [
    "import pandas as pd\n",
    "\n",
    "# Extract text column from a dataframe\n",
    "df = pd.read_csv(os.path.join(\"data\", \"news.csv\"))\n",
    "df.head()[['publisher', 'title']]\n",
    "\n",
    "# Convert text column to lowercase\n",
    "df['title'] = df['title'].str.lower()\n",
    "df.head()[['publisher', 'title']]"
   ]
  },
  {
   "cell_type": "markdown",
   "metadata": {},
   "source": [
    "### Online Resource"
   ]
  },
  {
   "cell_type": "code",
   "execution_count": 6,
   "metadata": {
    "scrolled": true
   },
   "outputs": [
    {
     "name": "stdout",
     "output_type": "stream",
     "text": [
      "{\n",
      "    \"success\": {\n",
      "        \"total\": 1\n",
      "    },\n",
      "    \"contents\": {\n",
      "        \"quotes\": [\n",
      "            {\n",
      "                \"quote\": \"Predicting Rain Doesn't Count. Building Arks Does.\",\n",
      "                \"author\": \"Warren Buffett\",\n",
      "                \"length\": null,\n",
      "                \"tags\": [\n",
      "                    \"action\",\n",
      "                    \"execution\",\n",
      "                    \"inspire\"\n",
      "                ],\n",
      "                \"category\": \"inspire\",\n",
      "                \"title\": \"Inspiring Quote of the day\",\n",
      "                \"date\": \"2019-02-20\",\n",
      "                \"id\": null\n",
      "            }\n",
      "        ],\n",
      "        \"copyright\": \"2017-19 theysaidso.com\"\n",
      "    }\n",
      "}\n",
      "Predicting Rain Doesn't Count. Building Arks Does. \n",
      "-- Warren Buffett\n"
     ]
    }
   ],
   "source": [
    "import requests\n",
    "import json\n",
    "\n",
    "# Fetch data from a REST API\n",
    "r = requests.get(\n",
    "    \"https://quotes.rest/qod.json\")\n",
    "res = r.json()\n",
    "print(json.dumps(res, indent=4))\n",
    "\n",
    "# Extract relevant object and field\n",
    "q = res[\"contents\"][\"quotes\"][0]\n",
    "print(q[\"quote\"], \"\\n--\", q[\"author\"])"
   ]
  },
  {
   "cell_type": "markdown",
   "metadata": {},
   "source": [
    "## Cleaning"
   ]
  },
  {
   "cell_type": "code",
   "execution_count": 7,
   "metadata": {
    "scrolled": true
   },
   "outputs": [
    {
     "name": "stdout",
     "output_type": "stream",
     "text": [
      "<html op=\"news\"><head><meta name=\"referrer\" content=\"origin\"><meta name=\"viewport\" content=\"width=device-width, initial-scale=1.0\"><link rel=\"stylesheet\" type=\"text/css\" href=\"news.css?5UigH4MNEZ7omdXmQbPC\">\n",
      "            <link rel=\"shortcut icon\" href=\"favicon.ico\">\n",
      "          <link rel=\"alternate\" type=\"application/rss+xml\" title=\"RSS\" href=\"rss\">\n",
      "        <title>Hacker News</title></head><body><center><table id=\"hnmain\" border=\"0\" cellpadding=\"0\" cellspacing=\"0\" width=\"85%\" bgcolor=\"#f6f6ef\">\n",
      "        <tr><td bgcolor=\"#ff6600\"><table border=\"0\" cellpadding=\"0\" cellspacing=\"0\" width=\"100%\" style=\"padding:2px\"><tr><td style=\"width:18px;padding-right:4px\"><a href=\"https://news.ycombinator.com\"><img src=\"y18.gif\" width=\"18\" height=\"18\" style=\"border:1px white solid;\"></a></td>\n",
      "                  <td style=\"line-height:12pt; height:10px;\"><span class=\"pagetop\"><b class=\"hnname\"><a href=\"news\">Hacker News</a></b>\n",
      "              <a href=\"newest\">new</a> | <a href=\"newcomments\">comments</a> | <a href=\"ask\">ask</a> | <a href=\"show\">show</a> | <a href=\"jobs\">jobs</a> | <a href=\"submit\">submit</a>            </span></td><td style=\"text-align:right;padding-right:4px;\"><span class=\"pagetop\">\n",
      "                              <a href=\"login?goto=news\">login</a>\n",
      "                          </span></td>\n",
      "              </tr></table></td></tr>\n",
      "<tr id=\"pagespace\" title=\"\" style=\"height:10px\"></tr><tr><td><table border=\"0\" cellpadding=\"0\" cellspacing=\"0\" class=\"itemlist\">\n",
      "              <tr class='athing' id='19204467'>\n",
      "      <td align=\"right\" valign=\"top\" class=\"title\"><span class=\"rank\">1.</span></td>      <td valign=\"top\" class=\"votelinks\"><center><a id='up_19204467' href='vote?id=19204467&amp;how=up&amp;goto=news'><div class='votearrow' title='upvote'></div></a></center></td><td class=\"title\"><a href=\"https://hackaday.com/2019/02/18/wifi-hides-inside-a-usb-cable/\" class=\"storylink\">WiFi Hides Inside a USB Cable</a><span class=\"sitebit comhead\"> (<a href=\"from?site=hackaday.com\"><span class=\"sitestr\">hackaday.com</span></a>)</span></td></tr><tr><td colspan=\"2\"></td><td class=\"subtext\">\n",
      "        <span class=\"score\" id=\"score_19204467\">103 points</span> by <a href=\"user?id=glax\" class=\"hnuser\">glax</a> <span class=\"age\"><a href=\"item?id=19204467\">2 hours ago</a></span> <span id=\"unv_19204467\"></span> | <a href=\"hide?id=19204467&amp;goto=news\">hide</a> | <a href=\"item?id=19204467\">45&nbsp;comments</a>              </td></tr>\n",
      "      <tr class=\"spacer\" style=\"height:5px\"></tr>\n",
      "                <tr class='athing' id='19201582'>\n",
      "      <td align=\"right\" valign=\"top\" class=\"title\"><span class=\"rank\">2.</span></td>      <td valign=\"top\" class=\"votelinks\"><center><a id='up_19201582' href='vote?id=19201582&amp;how=up&amp;goto=news'><div class='votearrow' title='upvote'></div></a></center></td><td class=\"title\"><a href=\"https://www.syfy.com/syfywire/no-oumuamua-is-not-an-alien-spaceship-it-might-be-even-weirder\" class=\"storylink\">Could 'Oumuamua be an icy fractal aggregate ejected from a protoplanetary disk?</a><span class=\"sitebit comhead\"> (<a href=\"from?site=syfy.com\"><span class=\"sitestr\">syfy.com</span></a>)</span></td></tr><tr><td colspan=\"2\"></td><td class=\"subtext\">\n",
      "        <span class=\"score\" id=\"score_19201582\">375 points</span> by <a href=\"user?id=Santosh83\" class=\"hnuser\">Santosh83</a> <span class=\"age\"><a href=\"item?id=19201582\">7 hours ago</a></span> <span id=\"unv_19201582\"></span> | <a href=\"hide?id=19201582&amp;goto=news\">hide</a> | <a href=\"item?id=19201582\">178&nbsp;comments</a>              </td></tr>\n",
      "      <tr class=\"spacer\" style=\"height:5px\"></tr>\n",
      "                <tr class='athing' id='19203617'>\n",
      "      <td align=\"right\" valign=\"top\" class=\"title\"><span class=\"rank\">3.</span></td>      <td valign=\"top\" class=\"votelinks\"><center><a id='up_19203617' href='vote?id=19203617&amp;how=up&amp;goto=news'><div class='votearrow' title='upvote'></div></a></center></td><td class=\"title\"><a href=\"https://alex.blog/2019/02/18/leukemia-has-won/\" class=\"storylink\">Leukemia Has Won</a><span class=\"sitebit comhead\"> (<a href=\"from?site=alex.blog\"><span class=\"sitestr\">alex.blog</span></a>)</span></td></tr><tr><td colspan=\"2\"></td><td class=\"subtext\">\n",
      "        <span class=\"score\" id=\"score_19203617\">511 points</span> by <a href=\"user?id=yagodragon\" class=\"hnuser\">yagodragon</a> <span class=\"age\"><a href=\"item?id=19203617\">3 hours ago</a></span> <span id=\"unv_19203617\"></span> | <a href=\"hide?id=19203617&amp;goto=news\">hide</a> | <a href=\"item?id=19203617\">61&nbsp;comments</a>              </td></tr>\n",
      "      <tr class=\"spacer\" style=\"height:5px\"></tr>\n",
      "                <tr class='athing' id='19202450'>\n",
      "      <td align=\"right\" valign=\"top\" class=\"title\"><span class=\"rank\">4.</span></td>      <td valign=\"top\" class=\"votelinks\"><center><a id='up_19202450' href='vote?id=19202450&amp;how=up&amp;goto=news'><div class='votearrow' title='upvote'></div></a></center></td><td class=\"title\"><a href=\"http://www.churyumov.com/2019/02/public-protest-against-amazon.html\" class=\"storylink\">Public protest against Amazon</a><span class=\"sitebit comhead\"> (<a href=\"from?site=churyumov.com\"><span class=\"sitestr\">churyumov.com</span></a>)</span></td></tr><tr><td colspan=\"2\"></td><td class=\"subtext\">\n",
      "        <span class=\"score\" id=\"score_19202450\">450 points</span> by <a href=\"user?id=liker777\" class=\"hnuser\">liker777</a> <span class=\"age\"><a href=\"item?id=19202450\">6 hours ago</a></span> <span id=\"unv_19202450\"></span> | <a href=\"hide?id=19202450&amp;goto=news\">hide</a> | <a href=\"item?id=19202450\">251&nbsp;comments</a>              </td></tr>\n",
      "      <tr class=\"spacer\" style=\"height:5px\"></tr>\n",
      "                <tr class='athing' id='19204594'>\n",
      "      <td align=\"right\" valign=\"top\" class=\"title\"><span class=\"rank\">5.</span></td>      <td valign=\"top\" class=\"votelinks\"><center><a id='up_19204594' href='vote?id=19204594&amp;how=up&amp;goto=news'><div class='votearrow' title='upvote'></div></a></center></td><td class=\"title\"><a href=\"https://en.wikipedia.org/wiki/Cessna_188_Pacific_rescue\" class=\"storylink\">Cessna 188 Pacific Rescue</a><span class=\"sitebit comhead\"> (<a href=\"from?site=wikipedia.org\"><span class=\"sitestr\">wikipedia.org</span></a>)</span></td></tr><tr><td colspan=\"2\"></td><td class=\"subtext\">\n",
      "        <span class=\"score\" id=\"score_19204594\">21 points</span> by <a href=\"user?id=curtis\" class=\"hnuser\">curtis</a> <span class=\"age\"><a href=\"item?id=19204594\">1 hour ago</a></span> <span id=\"unv_19204594\"></span> | <a href=\"hide?id=19204594&amp;goto=news\">hide</a> | <a href=\"item?id=19204594\">5&nbsp;comments</a>              </td></tr>\n",
      "      <tr class=\"spacer\" style=\"height:5px\"></tr>\n",
      "                <tr class='athing' id='19203911'>\n",
      "      <td align=\"right\" valign=\"top\" class=\"title\"><span class=\"rank\">6.</span></td>      <td valign=\"top\" class=\"votelinks\"><center><a id='up_19203911' href='vote?id=19203911&amp;how=up&amp;goto=news'><div class='votearrow' title='upvote'></div></a></center></td><td class=\"title\"><a href=\"https://www.npr.org/2019/02/19/696001017/grand-canyon-museum-reportedly-had-buckets-of-uranium-sitting-around-for-18-year\" class=\"storylink\">Grand Canyon Museum Had Buckets of Uranium Sitting Around for 18 Years</a><span class=\"sitebit comhead\"> (<a href=\"from?site=npr.org\"><span class=\"sitestr\">npr.org</span></a>)</span></td></tr><tr><td colspan=\"2\"></td><td class=\"subtext\">\n",
      "        <span class=\"score\" id=\"score_19203911\">56 points</span> by <a href=\"user?id=brundolf\" class=\"hnuser\">brundolf</a> <span class=\"age\"><a href=\"item?id=19203911\">3 hours ago</a></span> <span id=\"unv_19203911\"></span> | <a href=\"hide?id=19203911&amp;goto=news\">hide</a> | <a href=\"item?id=19203911\">27&nbsp;comments</a>              </td></tr>\n",
      "      <tr class=\"spacer\" style=\"height:5px\"></tr>\n",
      "                <tr class='athing' id='19198713'>\n",
      "      <td align=\"right\" valign=\"top\" class=\"title\"><span class=\"rank\">7.</span></td>      <td valign=\"top\" class=\"votelinks\"><center><a id='up_19198713' href='vote?id=19198713&amp;how=up&amp;goto=news'><div class='votearrow' title='upvote'></div></a></center></td><td class=\"title\"><a href=\"https://en.wikipedia.org/wiki/Uncleftish_Beholding\" class=\"storylink\">Uncleftish Beholding</a><span class=\"sitebit comhead\"> (<a href=\"from?site=wikipedia.org\"><span class=\"sitestr\">wikipedia.org</span></a>)</span></td></tr><tr><td colspan=\"2\"></td><td class=\"subtext\">\n",
      "        <span class=\"score\" id=\"score_19198713\">72 points</span> by <a href=\"user?id=BerislavLopac\" class=\"hnuser\">BerislavLopac</a> <span class=\"age\"><a href=\"item?id=19198713\">5 hours ago</a></span> <span id=\"unv_19198713\"></span> | <a href=\"hide?id=19198713&amp;goto=news\">hide</a> | <a href=\"item?id=19198713\">27&nbsp;comments</a>              </td></tr>\n",
      "      <tr class=\"spacer\" style=\"height:5px\"></tr>\n",
      "                <tr class='athing' id='19203845'>\n",
      "      <td align=\"right\" valign=\"top\" class=\"title\"><span class=\"rank\">8.</span></td>      <td valign=\"top\" class=\"votelinks\"><center><a id='up_19203845' href='vote?id=19203845&amp;how=up&amp;goto=news'><div class='votearrow' title='upvote'></div></a></center></td><td class=\"title\"><a href=\"https://hyperbo.la/w/reflections-on-learning-rust/\" class=\"storylink\">Reflections on Learning Rust by Building Punchtop</a><span class=\"sitebit comhead\"> (<a href=\"from?site=hyperbo.la\"><span class=\"sitestr\">hyperbo.la</span></a>)</span></td></tr><tr><td colspan=\"2\"></td><td class=\"subtext\">\n",
      "        <span class=\"score\" id=\"score_19203845\">44 points</span> by <a href=\"user?id=p4lindromica\" class=\"hnuser\">p4lindromica</a> <span class=\"age\"><a href=\"item?id=19203845\">3 hours ago</a></span> <span id=\"unv_19203845\"></span> | <a href=\"hide?id=19203845&amp;goto=news\">hide</a> | <a href=\"item?id=19203845\">4&nbsp;comments</a>              </td></tr>\n",
      "      <tr class=\"spacer\" style=\"height:5px\"></tr>\n",
      "                <tr class='athing' id='19202076'>\n",
      "      <td align=\"right\" valign=\"top\" class=\"title\"><span class=\"rank\">9.</span></td>      <td valign=\"top\" class=\"votelinks\"><center><a id='up_19202076' href='vote?id=19202076&amp;how=up&amp;goto=news'><div class='votearrow' title='upvote'></div></a></center></td><td class=\"title\"><a href=\"https://techcrunch.com/2019/02/19/redis-labs-raises-a-60m-series-e-round/\" class=\"storylink\">Redis Labs Raises a $60M Series E Round</a><span class=\"sitebit comhead\"> (<a href=\"from?site=techcrunch.com\"><span class=\"sitestr\">techcrunch.com</span></a>)</span></td></tr><tr><td colspan=\"2\"></td><td class=\"subtext\">\n",
      "        <span class=\"score\" id=\"score_19202076\">118 points</span> by <a href=\"user?id=moritzplassnig\" class=\"hnuser\">moritzplassnig</a> <span class=\"age\"><a href=\"item?id=19202076\">6 hours ago</a></span> <span id=\"unv_19202076\"></span> | <a href=\"hide?id=19202076&amp;goto=news\">hide</a> | <a href=\"item?id=19202076\">53&nbsp;comments</a>              </td></tr>\n",
      "      <tr class=\"spacer\" style=\"height:5px\"></tr>\n",
      "                <tr class='athing' id='19198129'>\n",
      "      <td align=\"right\" valign=\"top\" class=\"title\"><span class=\"rank\">10.</span></td>      <td valign=\"top\" class=\"votelinks\"><center><a id='up_19198129' href='vote?id=19198129&amp;how=up&amp;goto=news'><div class='votearrow' title='upvote'></div></a></center></td><td class=\"title\"><a href=\"https://arstechnica.com/science/2019/02/a-small-asteroid-may-briefly-blot-out-sirius-monday-night/\" class=\"storylink\">A 5km Asteroid May Briefly Occult the Brightest Star in the Night Sky</a><span class=\"sitebit comhead\"> (<a href=\"from?site=arstechnica.com\"><span class=\"sitestr\">arstechnica.com</span></a>)</span></td></tr><tr><td colspan=\"2\"></td><td class=\"subtext\">\n",
      "        <span class=\"score\" id=\"score_19198129\">19 points</span> by <a href=\"user?id=rbanffy\" class=\"hnuser\">rbanffy</a> <span class=\"age\"><a href=\"item?id=19198129\">3 hours ago</a></span> <span id=\"unv_19198129\"></span> | <a href=\"hide?id=19198129&amp;goto=news\">hide</a> | <a href=\"item?id=19198129\">7&nbsp;comments</a>              </td></tr>\n",
      "      <tr class=\"spacer\" style=\"height:5px\"></tr>\n",
      "                <tr class='athing' id='19202907'>\n",
      "      <td align=\"right\" valign=\"top\" class=\"title\"><span class=\"rank\">11.</span></td>      <td valign=\"top\" class=\"votelinks\"><center><a id='up_19202907' href='vote?id=19202907&amp;how=up&amp;goto=news'><div class='votearrow' title='upvote'></div></a></center></td><td class=\"title\"><a href=\"https://docs.google.com/presentation/d/1IiBLVU5Pj-48vzEMnuYEr9WQy9u2oi6Yk_8F3sgGkvQ/edit\" class=\"storylink\">Growing a Compiler: Getting to Machine Learning from a General Purpose Compiler</a><span class=\"sitebit comhead\"> (<a href=\"from?site=docs.google.com\"><span class=\"sitestr\">docs.google.com</span></a>)</span></td></tr><tr><td colspan=\"2\"></td><td class=\"subtext\">\n",
      "        <span class=\"score\" id=\"score_19202907\">69 points</span> by <a href=\"user?id=ViralBShah\" class=\"hnuser\">ViralBShah</a> <span class=\"age\"><a href=\"item?id=19202907\">5 hours ago</a></span> <span id=\"unv_19202907\"></span> | <a href=\"hide?id=19202907&amp;goto=news\">hide</a> | <a href=\"item?id=19202907\">13&nbsp;comments</a>              </td></tr>\n",
      "      <tr class=\"spacer\" style=\"height:5px\"></tr>\n",
      "                <tr class='athing' id='19199647'>\n",
      "      <td align=\"right\" valign=\"top\" class=\"title\"><span class=\"rank\">12.</span></td>      <td valign=\"top\" class=\"votelinks\"><center><a id='up_19199647' href='vote?id=19199647&amp;how=up&amp;goto=news'><div class='votearrow' title='upvote'></div></a></center></td><td class=\"title\"><a href=\"https://www.codeshelter.co/\" class=\"storylink\">Code Shelter: A Maintainer Community for Abandoned FOSS Projects</a><span class=\"sitebit comhead\"> (<a href=\"from?site=codeshelter.co\"><span class=\"sitestr\">codeshelter.co</span></a>)</span></td></tr><tr><td colspan=\"2\"></td><td class=\"subtext\">\n",
      "        <span class=\"score\" id=\"score_19199647\">251 points</span> by <a href=\"user?id=rantanplan\" class=\"hnuser\">rantanplan</a> <span class=\"age\"><a href=\"item?id=19199647\">10 hours ago</a></span> <span id=\"unv_19199647\"></span> | <a href=\"hide?id=19199647&amp;goto=news\">hide</a> | <a href=\"item?id=19199647\">61&nbsp;comments</a>              </td></tr>\n",
      "      <tr class=\"spacer\" style=\"height:5px\"></tr>\n",
      "                <tr class='athing' id='19201747'>\n",
      "      <td align=\"right\" valign=\"top\" class=\"title\"><span class=\"rank\">13.</span></td>      <td valign=\"top\" class=\"votelinks\"><center><a id='up_19201747' href='vote?id=19201747&amp;how=up&amp;goto=news'><div class='votearrow' title='upvote'></div></a></center></td><td class=\"title\"><a href=\"https://thedaily.case.edu/discovering-a-new-form-of-communication-in-the-brain/\" class=\"storylink\">Discovering a New Form of Communication in the Brain</a><span class=\"sitebit comhead\"> (<a href=\"from?site=case.edu\"><span class=\"sitestr\">case.edu</span></a>)</span></td></tr><tr><td colspan=\"2\"></td><td class=\"subtext\">\n",
      "        <span class=\"score\" id=\"score_19201747\">96 points</span> by <a href=\"user?id=oikos\" class=\"hnuser\">oikos</a> <span class=\"age\"><a href=\"item?id=19201747\">7 hours ago</a></span> <span id=\"unv_19201747\"></span> | <a href=\"hide?id=19201747&amp;goto=news\">hide</a> | <a href=\"item?id=19201747\">27&nbsp;comments</a>              </td></tr>\n",
      "      <tr class=\"spacer\" style=\"height:5px\"></tr>\n",
      "                <tr class='athing' id='19196664'>\n",
      "      <td align=\"right\" valign=\"top\" class=\"title\"><span class=\"rank\">14.</span></td>      <td valign=\"top\" class=\"votelinks\"><center><a id='up_19196664' href='vote?id=19196664&amp;how=up&amp;goto=news'><div class='votearrow' title='upvote'></div></a></center></td><td class=\"title\"><a href=\"https://www.reddit.com/r/dataisbeautiful/comments/7s8hck/paths_of_800_unmanned_bicycles_being_pushed_until/\" class=\"storylink\">Paths of 800 Unmanned Bicycles Being Pushed Until They Fall Over</a><span class=\"sitebit comhead\"> (<a href=\"from?site=reddit.com\"><span class=\"sitestr\">reddit.com</span></a>)</span></td></tr><tr><td colspan=\"2\"></td><td class=\"subtext\">\n",
      "        <span class=\"score\" id=\"score_19196664\">30 points</span> by <a href=\"user?id=DoreenMichele\" class=\"hnuser\">DoreenMichele</a> <span class=\"age\"><a href=\"item?id=19196664\">3 hours ago</a></span> <span id=\"unv_19196664\"></span> | <a href=\"hide?id=19196664&amp;goto=news\">hide</a> | <a href=\"item?id=19196664\">3&nbsp;comments</a>              </td></tr>\n",
      "      <tr class=\"spacer\" style=\"height:5px\"></tr>\n",
      "                <tr class='athing' id='19200151'>\n",
      "      <td align=\"right\" valign=\"top\" class=\"title\"><span class=\"rank\">15.</span></td>      <td valign=\"top\" class=\"votelinks\"><center><a id='up_19200151' href='vote?id=19200151&amp;how=up&amp;goto=news'><div class='votearrow' title='upvote'></div></a></center></td><td class=\"title\"><a href=\"https://chrome.google.com/webstore/detail/imdb-ratings-on-netflix/ohonjgnjobblbhfeamidafpnbkppbljh\" class=\"storylink\">Show HN: Chrome Extension to See IMDB Ratings Directly on Netflix</a><span class=\"sitebit comhead\"> (<a href=\"from?site=chrome.google.com\"><span class=\"sitestr\">chrome.google.com</span></a>)</span></td></tr><tr><td colspan=\"2\"></td><td class=\"subtext\">\n",
      "        <span class=\"score\" id=\"score_19200151\">171 points</span> by <a href=\"user?id=pawannitj\" class=\"hnuser\">pawannitj</a> <span class=\"age\"><a href=\"item?id=19200151\">9 hours ago</a></span> <span id=\"unv_19200151\"></span> | <a href=\"hide?id=19200151&amp;goto=news\">hide</a> | <a href=\"item?id=19200151\">66&nbsp;comments</a>              </td></tr>\n",
      "      <tr class=\"spacer\" style=\"height:5px\"></tr>\n",
      "                <tr class='athing' id='19202206'>\n",
      "      <td align=\"right\" valign=\"top\" class=\"title\"><span class=\"rank\">16.</span></td>      <td valign=\"top\" class=\"votelinks\"><center><a id='up_19202206' href='vote?id=19202206&amp;how=up&amp;goto=news'><div class='votearrow' title='upvote'></div></a></center></td><td class=\"title\"><a href=\"http://play.battlesnake.io\" class=\"storylink\">Battlesnake – Competitive Snake Games over HTTP</a><span class=\"sitebit comhead\"> (<a href=\"from?site=battlesnake.io\"><span class=\"sitestr\">battlesnake.io</span></a>)</span></td></tr><tr><td colspan=\"2\"></td><td class=\"subtext\">\n",
      "        <span class=\"score\" id=\"score_19202206\">110 points</span> by <a href=\"user?id=bvanvugt\" class=\"hnuser\">bvanvugt</a> <span class=\"age\"><a href=\"item?id=19202206\">6 hours ago</a></span> <span id=\"unv_19202206\"></span> | <a href=\"hide?id=19202206&amp;goto=news\">hide</a> | <a href=\"item?id=19202206\">35&nbsp;comments</a>              </td></tr>\n",
      "      <tr class=\"spacer\" style=\"height:5px\"></tr>\n",
      "                <tr class='athing' id='19201811'>\n",
      "      <td align=\"right\" valign=\"top\" class=\"title\"><span class=\"rank\">17.</span></td>      <td valign=\"top\" class=\"votelinks\"><center><a id='up_19201811' href='vote?id=19201811&amp;how=up&amp;goto=news'><div class='votearrow' title='upvote'></div></a></center></td><td class=\"title\"><a href=\"http://us.metamath.org/\" class=\"storylink\">Metamath</a><span class=\"sitebit comhead\"> (<a href=\"from?site=metamath.org\"><span class=\"sitestr\">metamath.org</span></a>)</span></td></tr><tr><td colspan=\"2\"></td><td class=\"subtext\">\n",
      "        <span class=\"score\" id=\"score_19201811\">97 points</span> by <a href=\"user?id=lainon\" class=\"hnuser\">lainon</a> <span class=\"age\"><a href=\"item?id=19201811\">7 hours ago</a></span> <span id=\"unv_19201811\"></span> | <a href=\"hide?id=19201811&amp;goto=news\">hide</a> | <a href=\"item?id=19201811\">9&nbsp;comments</a>              </td></tr>\n",
      "      <tr class=\"spacer\" style=\"height:5px\"></tr>\n",
      "                <tr class='athing' id='19204762'>\n",
      "      <td align=\"right\" valign=\"top\" class=\"title\"><span class=\"rank\">18.</span></td>      <td valign=\"top\" class=\"votelinks\"><center><a id='up_19204762' href='vote?id=19204762&amp;how=up&amp;goto=news'><div class='votearrow' title='upvote'></div></a></center></td><td class=\"title\"><a href=\"https://lm.sprinkleai.com/\" class=\"storylink\" rel=\"nofollow\">Show HN: Simple Webapp to Play with Open AI Transformer (Smaller Version)</a><span class=\"sitebit comhead\"> (<a href=\"from?site=sprinkleai.com\"><span class=\"sitestr\">sprinkleai.com</span></a>)</span></td></tr><tr><td colspan=\"2\"></td><td class=\"subtext\">\n",
      "        <span class=\"score\" id=\"score_19204762\">7 points</span> by <a href=\"user?id=holyash\" class=\"hnuser\">holyash</a> <span class=\"age\"><a href=\"item?id=19204762\">1 hour ago</a></span> <span id=\"unv_19204762\"></span> | <a href=\"hide?id=19204762&amp;goto=news\">hide</a> | <a href=\"item?id=19204762\">3&nbsp;comments</a>              </td></tr>\n",
      "      <tr class=\"spacer\" style=\"height:5px\"></tr>\n",
      "                <tr class='athing' id='19198173'>\n",
      "      <td align=\"right\" valign=\"top\" class=\"title\"><span class=\"rank\">19.</span></td>      <td valign=\"top\" class=\"votelinks\"><center><a id='up_19198173' href='vote?id=19198173&amp;how=up&amp;goto=news'><div class='votearrow' title='upvote'></div></a></center></td><td class=\"title\"><a href=\"https://www.theregister.co.uk/2019/02/18/41_years_of_the_bbs/\" class=\"storylink\">41 Years Ago, There Were BBS Instead of the Internet</a><span class=\"sitebit comhead\"> (<a href=\"from?site=theregister.co.uk\"><span class=\"sitestr\">theregister.co.uk</span></a>)</span></td></tr><tr><td colspan=\"2\"></td><td class=\"subtext\">\n",
      "        <span class=\"score\" id=\"score_19198173\">24 points</span> by <a href=\"user?id=laphony\" class=\"hnuser\">laphony</a> <span class=\"age\"><a href=\"item?id=19198173\">3 hours ago</a></span> <span id=\"unv_19198173\"></span> | <a href=\"hide?id=19198173&amp;goto=news\">hide</a> | <a href=\"item?id=19198173\">18&nbsp;comments</a>              </td></tr>\n",
      "      <tr class=\"spacer\" style=\"height:5px\"></tr>\n",
      "                <tr class='athing' id='19197883'>\n",
      "      <td align=\"right\" valign=\"top\" class=\"title\"><span class=\"rank\">20.</span></td>      <td valign=\"top\" class=\"votelinks\"><center><a id='up_19197883' href='vote?id=19197883&amp;how=up&amp;goto=news'><div class='votearrow' title='upvote'></div></a></center></td><td class=\"title\"><a href=\"https://www.sciencealert.com/neuroscientists-say-they-ve-found-an-entirely-new-form-of-neural-communication\" class=\"storylink\">Neuroscientists Say They've Found an Entirely New Form of Neural Communication</a><span class=\"sitebit comhead\"> (<a href=\"from?site=sciencealert.com\"><span class=\"sitestr\">sciencealert.com</span></a>)</span></td></tr><tr><td colspan=\"2\"></td><td class=\"subtext\">\n",
      "        <span class=\"score\" id=\"score_19197883\">61 points</span> by <a href=\"user?id=quakeguy\" class=\"hnuser\">quakeguy</a> <span class=\"age\"><a href=\"item?id=19197883\">6 hours ago</a></span> <span id=\"unv_19197883\"></span> | <a href=\"hide?id=19197883&amp;goto=news\">hide</a> | <a href=\"item?id=19197883\">8&nbsp;comments</a>              </td></tr>\n",
      "      <tr class=\"spacer\" style=\"height:5px\"></tr>\n",
      "                <tr class='athing' id='19204477'>\n",
      "      <td align=\"right\" valign=\"top\" class=\"title\"><span class=\"rank\">21.</span></td>      <td></td><td class=\"title\"><a href=\"https://jobs.lever.co/buildzoom\" class=\"storylink\" rel=\"nofollow\">BuildZoom (Marketplace for Construction) Is Hiring Engineers</a><span class=\"sitebit comhead\"> (<a href=\"from?site=lever.co\"><span class=\"sitestr\">lever.co</span></a>)</span></td></tr><tr><td colspan=\"2\"></td><td class=\"subtext\">\n",
      "        <span class=\"age\"><a href=\"item?id=19204477\">2 hours ago</a></span> | <a href=\"hide?id=19204477&amp;goto=news\">hide</a>      </td></tr>\n",
      "      <tr class=\"spacer\" style=\"height:5px\"></tr>\n",
      "                <tr class='athing' id='19202532'>\n",
      "      <td align=\"right\" valign=\"top\" class=\"title\"><span class=\"rank\">22.</span></td>      <td valign=\"top\" class=\"votelinks\"><center><a id='up_19202532' href='vote?id=19202532&amp;how=up&amp;goto=news'><div class='votearrow' title='upvote'></div></a></center></td><td class=\"title\"><a href=\"https://www.latimes.com/science/la-sci-sn-jet-stream-flight-20190219-story.html\" class=\"storylink\">Boeing 787 Reaches 801 MPH as a Jet Stream Packs Record-Breaking Speeds</a><span class=\"sitebit comhead\"> (<a href=\"from?site=latimes.com\"><span class=\"sitestr\">latimes.com</span></a>)</span></td></tr><tr><td colspan=\"2\"></td><td class=\"subtext\">\n",
      "        <span class=\"score\" id=\"score_19202532\">135 points</span> by <a href=\"user?id=ilamont\" class=\"hnuser\">ilamont</a> <span class=\"age\"><a href=\"item?id=19202532\">5 hours ago</a></span> <span id=\"unv_19202532\"></span> | <a href=\"hide?id=19202532&amp;goto=news\">hide</a> | <a href=\"item?id=19202532\">135&nbsp;comments</a>              </td></tr>\n",
      "      <tr class=\"spacer\" style=\"height:5px\"></tr>\n",
      "                <tr class='athing' id='19198776'>\n",
      "      <td align=\"right\" valign=\"top\" class=\"title\"><span class=\"rank\">23.</span></td>      <td valign=\"top\" class=\"votelinks\"><center><a id='up_19198776' href='vote?id=19198776&amp;how=up&amp;goto=news'><div class='votearrow' title='upvote'></div></a></center></td><td class=\"title\"><a href=\"https://www.nytimes.com/2019/02/19/business/mckinsey-hedge-fund.html\" class=\"storylink\">As McKinsey Sells Advice, Its Hedge Fund May Have a Stake in the Outcome</a><span class=\"sitebit comhead\"> (<a href=\"from?site=nytimes.com\"><span class=\"sitestr\">nytimes.com</span></a>)</span></td></tr><tr><td colspan=\"2\"></td><td class=\"subtext\">\n",
      "        <span class=\"score\" id=\"score_19198776\">178 points</span> by <a href=\"user?id=JaakkoP\" class=\"hnuser\">JaakkoP</a> <span class=\"age\"><a href=\"item?id=19198776\">12 hours ago</a></span> <span id=\"unv_19198776\"></span> | <a href=\"hide?id=19198776&amp;goto=news\">hide</a> | <a href=\"item?id=19198776\">94&nbsp;comments</a>              </td></tr>\n",
      "      <tr class=\"spacer\" style=\"height:5px\"></tr>\n",
      "                <tr class='athing' id='19201728'>\n",
      "      <td align=\"right\" valign=\"top\" class=\"title\"><span class=\"rank\">24.</span></td>      <td valign=\"top\" class=\"votelinks\"><center><a id='up_19201728' href='vote?id=19201728&amp;how=up&amp;goto=news'><div class='votearrow' title='upvote'></div></a></center></td><td class=\"title\"><a href=\"https://thegradient.pub/openai-please-open-source-your-language-model/\" class=\"storylink\">Dear OpenAI: Please Open Source Your Language Model</a><span class=\"sitebit comhead\"> (<a href=\"from?site=thegradient.pub\"><span class=\"sitestr\">thegradient.pub</span></a>)</span></td></tr><tr><td colspan=\"2\"></td><td class=\"subtext\">\n",
      "        <span class=\"score\" id=\"score_19201728\">210 points</span> by <a href=\"user?id=hughzhang\" class=\"hnuser\">hughzhang</a> <span class=\"age\"><a href=\"item?id=19201728\">7 hours ago</a></span> <span id=\"unv_19201728\"></span> | <a href=\"hide?id=19201728&amp;goto=news\">hide</a> | <a href=\"item?id=19201728\">94&nbsp;comments</a>              </td></tr>\n",
      "      <tr class=\"spacer\" style=\"height:5px\"></tr>\n",
      "                <tr class='athing' id='19199441'>\n",
      "      <td align=\"right\" valign=\"top\" class=\"title\"><span class=\"rank\">25.</span></td>      <td valign=\"top\" class=\"votelinks\"><center><a id='up_19199441' href='vote?id=19199441&amp;how=up&amp;goto=news'><div class='votearrow' title='upvote'></div></a></center></td><td class=\"title\"><a href=\"https://github.com/Ledger-Donjon/lascar\" class=\"storylink\">Ledger's Advanced Side Channel Analysis Repository</a><span class=\"sitebit comhead\"> (<a href=\"from?site=github.com\"><span class=\"sitestr\">github.com</span></a>)</span></td></tr><tr><td colspan=\"2\"></td><td class=\"subtext\">\n",
      "        <span class=\"score\" id=\"score_19199441\">125 points</span> by <a href=\"user?id=JBBP2\" class=\"hnuser\">JBBP2</a> <span class=\"age\"><a href=\"item?id=19199441\">11 hours ago</a></span> <span id=\"unv_19199441\"></span> | <a href=\"hide?id=19199441&amp;goto=news\">hide</a> | <a href=\"item?id=19199441\">22&nbsp;comments</a>              </td></tr>\n",
      "      <tr class=\"spacer\" style=\"height:5px\"></tr>\n",
      "                <tr class='athing' id='19204090'>\n",
      "      <td align=\"right\" valign=\"top\" class=\"title\"><span class=\"rank\">26.</span></td>      <td valign=\"top\" class=\"votelinks\"><center><a id='up_19204090' href='vote?id=19204090&amp;how=up&amp;goto=news'><div class='votearrow' title='upvote'></div></a></center></td><td class=\"title\"><a href=\"https://putsack.com\" class=\"storylink\">Putsack – Anonymous Paste and Encryption Tool</a><span class=\"sitebit comhead\"> (<a href=\"from?site=putsack.com\"><span class=\"sitestr\">putsack.com</span></a>)</span></td></tr><tr><td colspan=\"2\"></td><td class=\"subtext\">\n",
      "        <span class=\"score\" id=\"score_19204090\">13 points</span> by <a href=\"user?id=alexpha\" class=\"hnuser\">alexpha</a> <span class=\"age\"><a href=\"item?id=19204090\">2 hours ago</a></span> <span id=\"unv_19204090\"></span> | <a href=\"hide?id=19204090&amp;goto=news\">hide</a> | <a href=\"item?id=19204090\">4&nbsp;comments</a>              </td></tr>\n",
      "      <tr class=\"spacer\" style=\"height:5px\"></tr>\n",
      "                <tr class='athing' id='19198360'>\n",
      "      <td align=\"right\" valign=\"top\" class=\"title\"><span class=\"rank\">27.</span></td>      <td valign=\"top\" class=\"votelinks\"><center><a id='up_19198360' href='vote?id=19198360&amp;how=up&amp;goto=news'><div class='votearrow' title='upvote'></div></a></center></td><td class=\"title\"><a href=\"https://www.atlasobscura.com/articles/history-of-divorce\" class=\"storylink\">Early South Dakota Thrived by Being a Divorce Colony</a><span class=\"sitebit comhead\"> (<a href=\"from?site=atlasobscura.com\"><span class=\"sitestr\">atlasobscura.com</span></a>)</span></td></tr><tr><td colspan=\"2\"></td><td class=\"subtext\">\n",
      "        <span class=\"score\" id=\"score_19198360\">21 points</span> by <a href=\"user?id=Geekette\" class=\"hnuser\">Geekette</a> <span class=\"age\"><a href=\"item?id=19198360\">4 hours ago</a></span> <span id=\"unv_19198360\"></span> | <a href=\"hide?id=19198360&amp;goto=news\">hide</a> | <a href=\"item?id=19198360\">9&nbsp;comments</a>              </td></tr>\n",
      "      <tr class=\"spacer\" style=\"height:5px\"></tr>\n",
      "                <tr class='athing' id='19202011'>\n",
      "      <td align=\"right\" valign=\"top\" class=\"title\"><span class=\"rank\">28.</span></td>      <td valign=\"top\" class=\"votelinks\"><center><a id='up_19202011' href='vote?id=19202011&amp;how=up&amp;goto=news'><div class='votearrow' title='upvote'></div></a></center></td><td class=\"title\"><a href=\"https://github.com/rose-compiler/rose-develop#readme\" class=\"storylink\">Rose: Compiler Infrastructure for Source-to-Source Program Transformation</a><span class=\"sitebit comhead\"> (<a href=\"from?site=github.com\"><span class=\"sitestr\">github.com</span></a>)</span></td></tr><tr><td colspan=\"2\"></td><td class=\"subtext\">\n",
      "        <span class=\"score\" id=\"score_19202011\">53 points</span> by <a href=\"user?id=ingve\" class=\"hnuser\">ingve</a> <span class=\"age\"><a href=\"item?id=19202011\">6 hours ago</a></span> <span id=\"unv_19202011\"></span> | <a href=\"hide?id=19202011&amp;goto=news\">hide</a> | <a href=\"item?id=19202011\">10&nbsp;comments</a>              </td></tr>\n",
      "      <tr class=\"spacer\" style=\"height:5px\"></tr>\n",
      "                <tr class='athing' id='19200148'>\n",
      "      <td align=\"right\" valign=\"top\" class=\"title\"><span class=\"rank\">29.</span></td>      <td valign=\"top\" class=\"votelinks\"><center><a id='up_19200148' href='vote?id=19200148&amp;how=up&amp;goto=news'><div class='votearrow' title='upvote'></div></a></center></td><td class=\"title\"><a href=\"https://blog.cloudflare.com/announcing-workers-dev/\" class=\"storylink\">Announcing workers.dev</a><span class=\"sitebit comhead\"> (<a href=\"from?site=cloudflare.com\"><span class=\"sitestr\">cloudflare.com</span></a>)</span></td></tr><tr><td colspan=\"2\"></td><td class=\"subtext\">\n",
      "        <span class=\"score\" id=\"score_19200148\">101 points</span> by <a href=\"user?id=yarapavan\" class=\"hnuser\">yarapavan</a> <span class=\"age\"><a href=\"item?id=19200148\">9 hours ago</a></span> <span id=\"unv_19200148\"></span> | <a href=\"hide?id=19200148&amp;goto=news\">hide</a> | <a href=\"item?id=19200148\">53&nbsp;comments</a>              </td></tr>\n",
      "      <tr class=\"spacer\" style=\"height:5px\"></tr>\n",
      "                <tr class='athing' id='19199715'>\n",
      "      <td align=\"right\" valign=\"top\" class=\"title\"><span class=\"rank\">30.</span></td>      <td valign=\"top\" class=\"votelinks\"><center><a id='up_19199715' href='vote?id=19199715&amp;how=up&amp;goto=news'><div class='votearrow' title='upvote'></div></a></center></td><td class=\"title\"><a href=\"http://danluu.com/overwatch-gender/\" class=\"storylink\">Overwatch Randomized Trial on Gender</a><span class=\"sitebit comhead\"> (<a href=\"from?site=danluu.com\"><span class=\"sitestr\">danluu.com</span></a>)</span></td></tr><tr><td colspan=\"2\"></td><td class=\"subtext\">\n",
      "        <span class=\"score\" id=\"score_19199715\">139 points</span> by <a href=\"user?id=Aissen\" class=\"hnuser\">Aissen</a> <span class=\"age\"><a href=\"item?id=19199715\">10 hours ago</a></span> <span id=\"unv_19199715\"></span> | <a href=\"hide?id=19199715&amp;goto=news\">hide</a> | <a href=\"item?id=19199715\">76&nbsp;comments</a>              </td></tr>\n",
      "      <tr class=\"spacer\" style=\"height:5px\"></tr>\n",
      "            <tr class=\"morespace\" style=\"height:10px\"></tr><tr><td colspan=\"2\"></td><td class=\"title\"><a href=\"news?p=2\" class=\"morelink\" rel=\"nofollow\">More</a></td></tr>\n",
      "  </table>\n",
      "</td></tr>\n",
      "<tr><td><img src=\"s.gif\" height=\"10\" width=\"0\"><table width=\"100%\" cellspacing=\"0\" cellpadding=\"1\"><tr><td bgcolor=\"#ff6600\"></td></tr></table><br><center><a href=\"https://www.ycombinator.com/apply/\">\n",
      "        Applications are open for YC Summer 2019\n",
      "      </a></center><br><center><span class=\"yclinks\"><a href=\"newsguidelines.html\">Guidelines</a>\n",
      "        | <a href=\"newsfaq.html\">FAQ</a>\n",
      "        | <a href=\"mailto:hn@ycombinator.com\">Support</a>\n",
      "        | <a href=\"https://github.com/HackerNews/API\">API</a>\n",
      "        | <a href=\"security.html\">Security</a>\n",
      "        | <a href=\"lists\">Lists</a>\n",
      "        | <a href=\"bookmarklet.html\" rel=\"nofollow\">Bookmarklet</a>\n",
      "        | <a href=\"http://www.ycombinator.com/legal/\">Legal</a>\n",
      "        | <a href=\"http://www.ycombinator.com/apply/\">Apply to YC</a>\n",
      "        | <a href=\"mailto:hn@ycombinator.com\">Contact</a></span><br><br><form method=\"get\" action=\"//hn.algolia.com/\">Search:\n",
      "          <input type=\"text\" name=\"q\" value=\"\" size=\"17\" autocorrect=\"off\" spellcheck=\"false\" autocapitalize=\"off\" autocomplete=\"false\"></form>\n",
      "            </center></td></tr>\n",
      "      </table></center></body><script type='text/javascript' src='hn.js?5UigH4MNEZ7omdXmQbPC'></script>\n",
      "  </html>\n",
      "\n"
     ]
    }
   ],
   "source": [
    "import requests\n",
    "\n",
    "# Fetch a web page\n",
    "r = requests.get(\"https://news.ycombinator.com\")\n",
    "print(r.text)"
   ]
  },
  {
   "cell_type": "code",
   "execution_count": 8,
   "metadata": {},
   "outputs": [
    {
     "name": "stdout",
     "output_type": "stream",
     "text": [
      "\n",
      "            \n",
      "          \n",
      "        Hacker News\n",
      "        \n",
      "                  Hacker News\n",
      "              new | comments | ask | show | jobs | submit            \n",
      "                              login\n",
      "                          \n",
      "              \n",
      "\n",
      "              \n",
      "      1.      WiFi Hides Inside a USB Cable (hackaday.com)\n",
      "        103 points by glax 2 hours ago  | hide | 45&nbsp;comments              \n",
      "      \n",
      "                \n",
      "      2.      Could 'Oumuamua be an icy fractal aggregate ejected from a protoplanetary disk? (syfy.com)\n",
      "        375 points by Santosh83 7 hours ago  | hide | 178&nbsp;comments              \n",
      "      \n",
      "                \n",
      "      3.      Leukemia Has Won (alex.blog)\n",
      "        511 points by yagodragon 3 hours ago  | hide | 61&nbsp;comments              \n",
      "      \n",
      "                \n",
      "      4.      Public protest against Amazon (churyumov.com)\n",
      "        450 points by liker777 6 hours ago  | hide | 251&nbsp;comments              \n",
      "      \n",
      "                \n",
      "      5.      Cessna 188 Pacific Rescue (wikipedia.org)\n",
      "        21 points by curtis 1 hour ago  | hide | 5&nbsp;comments              \n",
      "      \n",
      "                \n",
      "      6.      Grand Canyon Museum Had Buckets of Uranium Sitting Around for 18 Years (npr.org)\n",
      "        56 points by brundolf 3 hours ago  | hide | 27&nbsp;comments              \n",
      "      \n",
      "                \n",
      "      7.      Uncleftish Beholding (wikipedia.org)\n",
      "        72 points by BerislavLopac 5 hours ago  | hide | 27&nbsp;comments              \n",
      "      \n",
      "                \n",
      "      8.      Reflections on Learning Rust by Building Punchtop (hyperbo.la)\n",
      "        44 points by p4lindromica 3 hours ago  | hide | 4&nbsp;comments              \n",
      "      \n",
      "                \n",
      "      9.      Redis Labs Raises a $60M Series E Round (techcrunch.com)\n",
      "        118 points by moritzplassnig 6 hours ago  | hide | 53&nbsp;comments              \n",
      "      \n",
      "                \n",
      "      10.      A 5km Asteroid May Briefly Occult the Brightest Star in the Night Sky (arstechnica.com)\n",
      "        19 points by rbanffy 3 hours ago  | hide | 7&nbsp;comments              \n",
      "      \n",
      "                \n",
      "      11.      Growing a Compiler: Getting to Machine Learning from a General Purpose Compiler (docs.google.com)\n",
      "        69 points by ViralBShah 5 hours ago  | hide | 13&nbsp;comments              \n",
      "      \n",
      "                \n",
      "      12.      Code Shelter: A Maintainer Community for Abandoned FOSS Projects (codeshelter.co)\n",
      "        251 points by rantanplan 10 hours ago  | hide | 61&nbsp;comments              \n",
      "      \n",
      "                \n",
      "      13.      Discovering a New Form of Communication in the Brain (case.edu)\n",
      "        96 points by oikos 7 hours ago  | hide | 27&nbsp;comments              \n",
      "      \n",
      "                \n",
      "      14.      Paths of 800 Unmanned Bicycles Being Pushed Until They Fall Over (reddit.com)\n",
      "        30 points by DoreenMichele 3 hours ago  | hide | 3&nbsp;comments              \n",
      "      \n",
      "                \n",
      "      15.      Show HN: Chrome Extension to See IMDB Ratings Directly on Netflix (chrome.google.com)\n",
      "        171 points by pawannitj 9 hours ago  | hide | 66&nbsp;comments              \n",
      "      \n",
      "                \n",
      "      16.      Battlesnake – Competitive Snake Games over HTTP (battlesnake.io)\n",
      "        110 points by bvanvugt 6 hours ago  | hide | 35&nbsp;comments              \n",
      "      \n",
      "                \n",
      "      17.      Metamath (metamath.org)\n",
      "        97 points by lainon 7 hours ago  | hide | 9&nbsp;comments              \n",
      "      \n",
      "                \n",
      "      18.      Show HN: Simple Webapp to Play with Open AI Transformer (Smaller Version) (sprinkleai.com)\n",
      "        7 points by holyash 1 hour ago  | hide | 3&nbsp;comments              \n",
      "      \n",
      "                \n",
      "      19.      41 Years Ago, There Were BBS Instead of the Internet (theregister.co.uk)\n",
      "        24 points by laphony 3 hours ago  | hide | 18&nbsp;comments              \n",
      "      \n",
      "                \n",
      "      20.      Neuroscientists Say They've Found an Entirely New Form of Neural Communication (sciencealert.com)\n",
      "        61 points by quakeguy 6 hours ago  | hide | 8&nbsp;comments              \n",
      "      \n",
      "                \n",
      "      21.      BuildZoom (Marketplace for Construction) Is Hiring Engineers (lever.co)\n",
      "        2 hours ago | hide      \n",
      "      \n",
      "                \n",
      "      22.      Boeing 787 Reaches 801 MPH as a Jet Stream Packs Record-Breaking Speeds (latimes.com)\n",
      "        135 points by ilamont 5 hours ago  | hide | 135&nbsp;comments              \n",
      "      \n",
      "                \n",
      "      23.      As McKinsey Sells Advice, Its Hedge Fund May Have a Stake in the Outcome (nytimes.com)\n",
      "        178 points by JaakkoP 12 hours ago  | hide | 94&nbsp;comments              \n",
      "      \n",
      "                \n",
      "      24.      Dear OpenAI: Please Open Source Your Language Model (thegradient.pub)\n",
      "        210 points by hughzhang 7 hours ago  | hide | 94&nbsp;comments              \n",
      "      \n",
      "                \n",
      "      25.      Ledger's Advanced Side Channel Analysis Repository (github.com)\n",
      "        125 points by JBBP2 11 hours ago  | hide | 22&nbsp;comments              \n",
      "      \n",
      "                \n",
      "      26.      Putsack – Anonymous Paste and Encryption Tool (putsack.com)\n",
      "        13 points by alexpha 2 hours ago  | hide | 4&nbsp;comments              \n",
      "      \n",
      "                \n",
      "      27.      Early South Dakota Thrived by Being a Divorce Colony (atlasobscura.com)\n",
      "        21 points by Geekette 4 hours ago  | hide | 9&nbsp;comments              \n",
      "      \n",
      "                \n",
      "      28.      Rose: Compiler Infrastructure for Source-to-Source Program Transformation (github.com)\n",
      "        53 points by ingve 6 hours ago  | hide | 10&nbsp;comments              \n",
      "      \n",
      "                \n",
      "      29.      Announcing workers.dev (cloudflare.com)\n",
      "        101 points by yarapavan 9 hours ago  | hide | 53&nbsp;comments              \n",
      "      \n",
      "                \n",
      "      30.      Overwatch Randomized Trial on Gender (danluu.com)\n",
      "        139 points by Aissen 10 hours ago  | hide | 76&nbsp;comments              \n",
      "      \n",
      "            More\n",
      "  \n",
      "\n",
      "\n",
      "        Applications are open for YC Summer 2019\n",
      "      Guidelines\n",
      "        | FAQ\n",
      "        | Support\n",
      "        | API\n",
      "        | Security\n",
      "        | Lists\n",
      "        | Bookmarklet\n",
      "        | Legal\n",
      "        | Apply to YC\n",
      "        | ContactSearch:\n",
      "          \n",
      "            \n",
      "      \n",
      "  \n",
      "\n"
     ]
    }
   ],
   "source": [
    "import re\n",
    "\n",
    "# Remove HTML tags using RegEx\n",
    "pattern = re.compile(r'<.*?>')  # tags look like <...>\n",
    "print(pattern.sub('', r.text))  # replace them with blank"
   ]
  },
  {
   "cell_type": "code",
   "execution_count": 9,
   "metadata": {},
   "outputs": [
    {
     "name": "stdout",
     "output_type": "stream",
     "text": [
      "\n",
      "            \n",
      "          \n",
      "        Hacker News\n",
      "        \n",
      "                  Hacker News\n",
      "              new | comments | ask | show | jobs | submit            \n",
      "                              login\n",
      "                          \n",
      "              \n",
      "\n",
      "              \n",
      "      1.      WiFi Hides Inside a USB Cable (hackaday.com)\n",
      "        103 points by glax 2 hours ago  | hide | 45 comments              \n",
      "      \n",
      "                \n",
      "      2.      Could 'Oumuamua be an icy fractal aggregate ejected from a protoplanetary disk? (syfy.com)\n",
      "        375 points by Santosh83 7 hours ago  | hide | 178 comments              \n",
      "      \n",
      "                \n",
      "      3.      Leukemia Has Won (alex.blog)\n",
      "        511 points by yagodragon 3 hours ago  | hide | 61 comments              \n",
      "      \n",
      "                \n",
      "      4.      Public protest against Amazon (churyumov.com)\n",
      "        450 points by liker777 6 hours ago  | hide | 251 comments              \n",
      "      \n",
      "                \n",
      "      5.      Cessna 188 Pacific Rescue (wikipedia.org)\n",
      "        21 points by curtis 1 hour ago  | hide | 5 comments              \n",
      "      \n",
      "                \n",
      "      6.      Grand Canyon Museum Had Buckets of Uranium Sitting Around for 18 Years (npr.org)\n",
      "        56 points by brundolf 3 hours ago  | hide | 27 comments              \n",
      "      \n",
      "                \n",
      "      7.      Uncleftish Beholding (wikipedia.org)\n",
      "        72 points by BerislavLopac 5 hours ago  | hide | 27 comments              \n",
      "      \n",
      "                \n",
      "      8.      Reflections on Learning Rust by Building Punchtop (hyperbo.la)\n",
      "        44 points by p4lindromica 3 hours ago  | hide | 4 comments              \n",
      "      \n",
      "                \n",
      "      9.      Redis Labs Raises a $60M Series E Round (techcrunch.com)\n",
      "        118 points by moritzplassnig 6 hours ago  | hide | 53 comments              \n",
      "      \n",
      "                \n",
      "      10.      A 5km Asteroid May Briefly Occult the Brightest Star in the Night Sky (arstechnica.com)\n",
      "        19 points by rbanffy 3 hours ago  | hide | 7 comments              \n",
      "      \n",
      "                \n",
      "      11.      Growing a Compiler: Getting to Machine Learning from a General Purpose Compiler (docs.google.com)\n",
      "        69 points by ViralBShah 5 hours ago  | hide | 13 comments              \n",
      "      \n",
      "                \n",
      "      12.      Code Shelter: A Maintainer Community for Abandoned FOSS Projects (codeshelter.co)\n",
      "        251 points by rantanplan 10 hours ago  | hide | 61 comments              \n",
      "      \n",
      "                \n",
      "      13.      Discovering a New Form of Communication in the Brain (case.edu)\n",
      "        96 points by oikos 7 hours ago  | hide | 27 comments              \n",
      "      \n",
      "                \n",
      "      14.      Paths of 800 Unmanned Bicycles Being Pushed Until They Fall Over (reddit.com)\n",
      "        30 points by DoreenMichele 3 hours ago  | hide | 3 comments              \n",
      "      \n",
      "                \n",
      "      15.      Show HN: Chrome Extension to See IMDB Ratings Directly on Netflix (chrome.google.com)\n",
      "        171 points by pawannitj 9 hours ago  | hide | 66 comments              \n",
      "      \n",
      "                \n",
      "      16.      Battlesnake – Competitive Snake Games over HTTP (battlesnake.io)\n",
      "        110 points by bvanvugt 6 hours ago  | hide | 35 comments              \n",
      "      \n",
      "                \n",
      "      17.      Metamath (metamath.org)\n",
      "        97 points by lainon 7 hours ago  | hide | 9 comments              \n",
      "      \n",
      "                \n",
      "      18.      Show HN: Simple Webapp to Play with Open AI Transformer (Smaller Version) (sprinkleai.com)\n",
      "        7 points by holyash 1 hour ago  | hide | 3 comments              \n",
      "      \n",
      "                \n",
      "      19.      41 Years Ago, There Were BBS Instead of the Internet (theregister.co.uk)\n",
      "        24 points by laphony 3 hours ago  | hide | 18 comments              \n",
      "      \n",
      "                \n",
      "      20.      Neuroscientists Say They've Found an Entirely New Form of Neural Communication (sciencealert.com)\n",
      "        61 points by quakeguy 6 hours ago  | hide | 8 comments              \n",
      "      \n",
      "                \n",
      "      21.      BuildZoom (Marketplace for Construction) Is Hiring Engineers (lever.co)\n",
      "        2 hours ago | hide      \n",
      "      \n",
      "                \n",
      "      22.      Boeing 787 Reaches 801 MPH as a Jet Stream Packs Record-Breaking Speeds (latimes.com)\n",
      "        135 points by ilamont 5 hours ago  | hide | 135 comments              \n",
      "      \n",
      "                \n",
      "      23.      As McKinsey Sells Advice, Its Hedge Fund May Have a Stake in the Outcome (nytimes.com)\n",
      "        178 points by JaakkoP 12 hours ago  | hide | 94 comments              \n",
      "      \n",
      "                \n",
      "      24.      Dear OpenAI: Please Open Source Your Language Model (thegradient.pub)\n",
      "        210 points by hughzhang 7 hours ago  | hide | 94 comments              \n",
      "      \n",
      "                \n",
      "      25.      Ledger's Advanced Side Channel Analysis Repository (github.com)\n",
      "        125 points by JBBP2 11 hours ago  | hide | 22 comments              \n",
      "      \n",
      "                \n",
      "      26.      Putsack – Anonymous Paste and Encryption Tool (putsack.com)\n",
      "        13 points by alexpha 2 hours ago  | hide | 4 comments              \n",
      "      \n",
      "                \n",
      "      27.      Early South Dakota Thrived by Being a Divorce Colony (atlasobscura.com)\n",
      "        21 points by Geekette 4 hours ago  | hide | 9 comments              \n",
      "      \n",
      "                \n",
      "      28.      Rose: Compiler Infrastructure for Source-to-Source Program Transformation (github.com)\n",
      "        53 points by ingve 6 hours ago  | hide | 10 comments              \n",
      "      \n",
      "                \n",
      "      29.      Announcing workers.dev (cloudflare.com)\n",
      "        101 points by yarapavan 9 hours ago  | hide | 53 comments              \n",
      "      \n",
      "                \n",
      "      30.      Overwatch Randomized Trial on Gender (danluu.com)\n",
      "        139 points by Aissen 10 hours ago  | hide | 76 comments              \n",
      "      \n",
      "            More\n",
      "  \n",
      "\n",
      "\n",
      "        Applications are open for YC Summer 2019\n",
      "      Guidelines\n",
      "        | FAQ\n",
      "        | Support\n",
      "        | API\n",
      "        | Security\n",
      "        | Lists\n",
      "        | Bookmarklet\n",
      "        | Legal\n",
      "        | Apply to YC\n",
      "        | ContactSearch:\n",
      "          \n",
      "            \n",
      "      \n",
      "  \n",
      "\n"
     ]
    }
   ],
   "source": [
    "from bs4 import BeautifulSoup\n",
    "\n",
    "# Remove HTML tags using Beautiful Soup library\n",
    "soup = BeautifulSoup(r.text, \"html5lib\")\n",
    "print(soup.get_text())"
   ]
  },
  {
   "cell_type": "code",
   "execution_count": 10,
   "metadata": {
    "scrolled": true
   },
   "outputs": [
    {
     "data": {
      "text/plain": [
       "<tr class=\"athing\" id=\"19204467\">\n",
       "      <td align=\"right\" class=\"title\" valign=\"top\"><span class=\"rank\">1.</span></td>      <td class=\"votelinks\" valign=\"top\"><center><a href=\"vote?id=19204467&amp;how=up&amp;goto=news\" id=\"up_19204467\"><div class=\"votearrow\" title=\"upvote\"></div></a></center></td><td class=\"title\"><a class=\"storylink\" href=\"https://hackaday.com/2019/02/18/wifi-hides-inside-a-usb-cable/\">WiFi Hides Inside a USB Cable</a><span class=\"sitebit comhead\"> (<a href=\"from?site=hackaday.com\"><span class=\"sitestr\">hackaday.com</span></a>)</span></td></tr>"
      ]
     },
     "execution_count": 10,
     "metadata": {},
     "output_type": "execute_result"
    }
   ],
   "source": [
    "# Find all articles\n",
    "summaries = soup.find_all(\"tr\", class_=\"athing\")\n",
    "summaries[0]"
   ]
  },
  {
   "cell_type": "code",
   "execution_count": 11,
   "metadata": {},
   "outputs": [
    {
     "data": {
      "text/plain": [
       "'WiFi Hides Inside a USB Cable'"
      ]
     },
     "execution_count": 11,
     "metadata": {},
     "output_type": "execute_result"
    }
   ],
   "source": [
    "# Extract title\n",
    "summaries[0].find(\"a\", class_=\"storylink\").get_text().strip()"
   ]
  },
  {
   "cell_type": "code",
   "execution_count": 14,
   "metadata": {},
   "outputs": [
    {
     "name": "stdout",
     "output_type": "stream",
     "text": [
      "30 Article summaries found. Sample:\n",
      "WiFi Hides Inside a USB Cable\n"
     ]
    }
   ],
   "source": [
    "# Find all articles, extract titles\n",
    "articles = []\n",
    "summaries = soup.find_all(\"tr\", class_=\"athing\")\n",
    "for summary in summaries:\n",
    "    title = summary.find(\"a\", class_=\"storylink\").get_text().strip()\n",
    "    articles.append((title))\n",
    "\n",
    "print(len(articles), \"Article summaries found. Sample:\")\n",
    "print(articles[0])"
   ]
  },
  {
   "cell_type": "markdown",
   "metadata": {
    "collapsed": true
   },
   "source": [
    "## Normalization"
   ]
  },
  {
   "cell_type": "markdown",
   "metadata": {},
   "source": [
    "### Case Normalization"
   ]
  },
  {
   "cell_type": "code",
   "execution_count": 28,
   "metadata": {},
   "outputs": [
    {
     "name": "stdout",
     "output_type": "stream",
     "text": [
      "The first time you see The Second Renaissance it may look boring. Look at it at least twice and definitely watch part 2. It will change your view of the matrix. Are the human people the ones who started the war ? Is AI a bad thing ?\n"
     ]
    }
   ],
   "source": [
    "# Sample text\n",
    "text = \"The first time you see The Second Renaissance it may look boring. \\\n",
    "Look at it at least twice and definitely watch part 2. It will change your view \\\n",
    "of the matrix. Are the human people the ones who started the war ? Is AI a bad thing ?\"\n",
    "print(text)"
   ]
  },
  {
   "cell_type": "code",
   "execution_count": 29,
   "metadata": {},
   "outputs": [
    {
     "name": "stdout",
     "output_type": "stream",
     "text": [
      "the first time you see the second renaissance it may look boring. look at it at least twice and definitely watch part 2. it will change your view of the matrix. are the human people the ones who started the war ? is ai a bad thing ?\n"
     ]
    }
   ],
   "source": [
    "# Convert to lowercase\n",
    "text = text.lower() \n",
    "print(text)"
   ]
  },
  {
   "cell_type": "markdown",
   "metadata": {},
   "source": [
    "### Punctuation Removal"
   ]
  },
  {
   "cell_type": "code",
   "execution_count": 21,
   "metadata": {},
   "outputs": [
    {
     "name": "stdout",
     "output_type": "stream",
     "text": [
      " the first time you see the second renaissance it may look boring  look at it at  least twice and definitely watch part 2  it will change your view of the matrix   are the human people the ones who started the war   is ai a bad thing   \n"
     ]
    }
   ],
   "source": [
    "import re\n",
    "\n",
    "# Remove punctuation characters\n",
    "text = re.sub(r\"[^a-zA-Z0-9]\", \" \", text) \n",
    "print(text)"
   ]
  },
  {
   "cell_type": "markdown",
   "metadata": {},
   "source": [
    "## Tokenization"
   ]
  },
  {
   "cell_type": "code",
   "execution_count": 22,
   "metadata": {},
   "outputs": [
    {
     "name": "stdout",
     "output_type": "stream",
     "text": [
      "['the', 'first', 'time', 'you', 'see', 'the', 'second', 'renaissance', 'it', 'may', 'look', 'boring', 'look', 'at', 'it', 'at', 'least', 'twice', 'and', 'definitely', 'watch', 'part', '2', 'it', 'will', 'change', 'your', 'view', 'of', 'the', 'matrix', 'are', 'the', 'human', 'people', 'the', 'ones', 'who', 'started', 'the', 'war', 'is', 'ai', 'a', 'bad', 'thing']\n"
     ]
    }
   ],
   "source": [
    "# Split text into tokens (words)\n",
    "words = text.split()\n",
    "print(words)"
   ]
  },
  {
   "cell_type": "markdown",
   "metadata": {},
   "source": [
    "### NLTK: Natural Language ToolKit"
   ]
  },
  {
   "cell_type": "code",
   "execution_count": 23,
   "metadata": {},
   "outputs": [],
   "source": [
    "import os\n",
    "import nltk\n",
    "nltk.data.path.append(os.path.join(os.getcwd(), \"nltk_data\"))"
   ]
  },
  {
   "cell_type": "code",
   "execution_count": 24,
   "metadata": {},
   "outputs": [
    {
     "name": "stdout",
     "output_type": "stream",
     "text": [
      "Dr. Smith graduated from the University of Washington. He later started an analytics firm called Lux, which catered to enterprise customers.\n"
     ]
    }
   ],
   "source": [
    "# Another sample text\n",
    "text = \"Dr. Smith graduated from the University of Washington. \\\n",
    "He later started an analytics firm called Lux, which catered to \\\n",
    "enterprise customers.\"\n",
    "print(text)"
   ]
  },
  {
   "cell_type": "code",
   "execution_count": 30,
   "metadata": {},
   "outputs": [
    {
     "name": "stdout",
     "output_type": "stream",
     "text": [
      "['the', 'first', 'time', 'you', 'see', 'the', 'second', 'renaissance', 'it', 'may', 'look', 'boring', '.', 'look', 'at', 'it', 'at', 'least', 'twice', 'and', 'definitely', 'watch', 'part', '2.', 'it', 'will', 'change', 'your', 'view', 'of', 'the', 'matrix', '.', 'are', 'the', 'human', 'people', 'the', 'ones', 'who', 'started', 'the', 'war', '?', 'is', 'ai', 'a', 'bad', 'thing', '?']\n"
     ]
    }
   ],
   "source": [
    "from nltk.tokenize import word_tokenize\n",
    "\n",
    "# Split text into words using NLTK\n",
    "words = word_tokenize(text)\n",
    "print(words)"
   ]
  },
  {
   "cell_type": "code",
   "execution_count": 31,
   "metadata": {},
   "outputs": [
    {
     "name": "stdout",
     "output_type": "stream",
     "text": [
      "['the first time you see the second renaissance it may look boring.', 'look at it at least twice and definitely watch part 2. it will change your view of the matrix.', 'are the human people the ones who started the war ?', 'is ai a bad thing ?']\n"
     ]
    }
   ],
   "source": [
    "from nltk.tokenize import sent_tokenize\n",
    "\n",
    "# Split text into sentences\n",
    "sentences = sent_tokenize(text)\n",
    "print(sentences)"
   ]
  },
  {
   "cell_type": "code",
   "execution_count": 32,
   "metadata": {},
   "outputs": [
    {
     "name": "stdout",
     "output_type": "stream",
     "text": [
      "['i', 'me', 'my', 'myself', 'we', 'our', 'ours', 'ourselves', 'you', \"you're\", \"you've\", \"you'll\", \"you'd\", 'your', 'yours', 'yourself', 'yourselves', 'he', 'him', 'his', 'himself', 'she', \"she's\", 'her', 'hers', 'herself', 'it', \"it's\", 'its', 'itself', 'they', 'them', 'their', 'theirs', 'themselves', 'what', 'which', 'who', 'whom', 'this', 'that', \"that'll\", 'these', 'those', 'am', 'is', 'are', 'was', 'were', 'be', 'been', 'being', 'have', 'has', 'had', 'having', 'do', 'does', 'did', 'doing', 'a', 'an', 'the', 'and', 'but', 'if', 'or', 'because', 'as', 'until', 'while', 'of', 'at', 'by', 'for', 'with', 'about', 'against', 'between', 'into', 'through', 'during', 'before', 'after', 'above', 'below', 'to', 'from', 'up', 'down', 'in', 'out', 'on', 'off', 'over', 'under', 'again', 'further', 'then', 'once', 'here', 'there', 'when', 'where', 'why', 'how', 'all', 'any', 'both', 'each', 'few', 'more', 'most', 'other', 'some', 'such', 'no', 'nor', 'not', 'only', 'own', 'same', 'so', 'than', 'too', 'very', 's', 't', 'can', 'will', 'just', 'don', \"don't\", 'should', \"should've\", 'now', 'd', 'll', 'm', 'o', 're', 've', 'y', 'ain', 'aren', \"aren't\", 'couldn', \"couldn't\", 'didn', \"didn't\", 'doesn', \"doesn't\", 'hadn', \"hadn't\", 'hasn', \"hasn't\", 'haven', \"haven't\", 'isn', \"isn't\", 'ma', 'mightn', \"mightn't\", 'mustn', \"mustn't\", 'needn', \"needn't\", 'shan', \"shan't\", 'shouldn', \"shouldn't\", 'wasn', \"wasn't\", 'weren', \"weren't\", 'won', \"won't\", 'wouldn', \"wouldn't\"]\n"
     ]
    }
   ],
   "source": [
    "# List stop words\n",
    "from nltk.corpus import stopwords\n",
    "print(stopwords.words(\"english\"))"
   ]
  },
  {
   "cell_type": "code",
   "execution_count": 33,
   "metadata": {},
   "outputs": [
    {
     "name": "stdout",
     "output_type": "stream",
     "text": [
      "['the', 'first', 'time', 'you', 'see', 'the', 'second', 'renaissance', 'it', 'may', 'look', 'boring', 'look', 'at', 'it', 'at', 'least', 'twice', 'and', 'definitely', 'watch', 'part', '2', 'it', 'will', 'change', 'your', 'view', 'of', 'the', 'matrix', 'are', 'the', 'human', 'people', 'the', 'ones', 'who', 'started', 'the', 'war', 'is', 'ai', 'a', 'bad', 'thing']\n"
     ]
    }
   ],
   "source": [
    "# Reset text\n",
    "text = \"The first time you see The Second Renaissance it may look boring. \\\n",
    "Look at it at least twice and definitely watch part 2. It will change your \\\n",
    "view of the matrix. Are the human people the ones who started the war ? Is AI a bad thing ?\"\n",
    "\n",
    "# Normalize it\n",
    "text = re.sub(r\"[^a-zA-Z0-9]\", \" \", text.lower())\n",
    "\n",
    "# Tokenize it\n",
    "words = text.split()\n",
    "print(words)"
   ]
  },
  {
   "cell_type": "code",
   "execution_count": 34,
   "metadata": {},
   "outputs": [
    {
     "name": "stdout",
     "output_type": "stream",
     "text": [
      "['first', 'time', 'see', 'second', 'renaissance', 'may', 'look', 'boring', 'look', 'least', 'twice', 'definitely', 'watch', 'part', '2', 'change', 'view', 'matrix', 'human', 'people', 'ones', 'started', 'war', 'ai', 'bad', 'thing']\n"
     ]
    }
   ],
   "source": [
    "# Remove stop words\n",
    "words = [w for w in words if w not in stopwords.words(\"english\")]\n",
    "print(words)"
   ]
  },
  {
   "cell_type": "markdown",
   "metadata": {},
   "source": [
    "### Sentence Parsing"
   ]
  },
  {
   "cell_type": "code",
   "execution_count": 35,
   "metadata": {},
   "outputs": [
    {
     "name": "stdout",
     "output_type": "stream",
     "text": [
      "(S\n",
      "  (NP I)\n",
      "  (VP\n",
      "    (VP (V shot) (NP (Det an) (N elephant)))\n",
      "    (PP (P in) (NP (Det my) (N pajamas)))))\n",
      "(S\n",
      "  (NP I)\n",
      "  (VP\n",
      "    (V shot)\n",
      "    (NP (Det an) (N elephant) (PP (P in) (NP (Det my) (N pajamas))))))\n"
     ]
    }
   ],
   "source": [
    "import nltk\n",
    "\n",
    "# Define a custom grammar\n",
    "my_grammar = nltk.CFG.fromstring(\"\"\"\n",
    "S -> NP VP\n",
    "PP -> P NP\n",
    "NP -> Det N | Det N PP | 'I'\n",
    "VP -> V NP | VP PP\n",
    "Det -> 'an' | 'my'\n",
    "N -> 'elephant' | 'pajamas'\n",
    "V -> 'shot'\n",
    "P -> 'in'\n",
    "\"\"\")\n",
    "parser = nltk.ChartParser(my_grammar)\n",
    "\n",
    "# Parse a sentence\n",
    "sentence = word_tokenize(\"I shot an elephant in my pajamas\")\n",
    "for tree in parser.parse(sentence):\n",
    "    print(tree)"
   ]
  },
  {
   "cell_type": "markdown",
   "metadata": {},
   "source": [
    "## Stemming & Lemmatization\n",
    "\n",
    "### Stemming"
   ]
  },
  {
   "cell_type": "code",
   "execution_count": 36,
   "metadata": {},
   "outputs": [
    {
     "name": "stdout",
     "output_type": "stream",
     "text": [
      "['first', 'time', 'see', 'second', 'renaiss', 'may', 'look', 'bore', 'look', 'least', 'twice', 'definit', 'watch', 'part', '2', 'chang', 'view', 'matrix', 'human', 'peopl', 'one', 'start', 'war', 'ai', 'bad', 'thing']\n"
     ]
    }
   ],
   "source": [
    "from nltk.stem.porter import PorterStemmer\n",
    "\n",
    "# Reduce words to their stems\n",
    "stemmed = [PorterStemmer().stem(w) for w in words]\n",
    "print(stemmed)"
   ]
  },
  {
   "cell_type": "markdown",
   "metadata": {},
   "source": [
    "### Lemmatization"
   ]
  },
  {
   "cell_type": "code",
   "execution_count": null,
   "metadata": {},
   "outputs": [],
   "source": [
    "from nltk.stem.wordnet import WordNetLemmatizer\n",
    "\n",
    "# Reduce words to their root form\n",
    "lemmed = [WordNetLemmatizer().lemmatize(w) for w in words]\n",
    "print(lemmed)"
   ]
  },
  {
   "cell_type": "code",
   "execution_count": null,
   "metadata": {},
   "outputs": [],
   "source": [
    "# Lemmatize verbs by specifying pos\n",
    "lemmed = [WordNetLemmatizer().lemmatize(w, pos='v') for w in lemmed]\n",
    "print(lemmed)"
   ]
  },
  {
   "cell_type": "code",
   "execution_count": null,
   "metadata": {},
   "outputs": [],
   "source": []
  }
 ],
 "metadata": {
  "kernelspec": {
   "display_name": "Python 3",
   "language": "python",
   "name": "python3"
  },
  "language_info": {
   "codemirror_mode": {
    "name": "ipython",
    "version": 3
   },
   "file_extension": ".py",
   "mimetype": "text/x-python",
   "name": "python",
   "nbconvert_exporter": "python",
   "pygments_lexer": "ipython3",
   "version": "3.6.3"
  }
 },
 "nbformat": 4,
 "nbformat_minor": 2
}
